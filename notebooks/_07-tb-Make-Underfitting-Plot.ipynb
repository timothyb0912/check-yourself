{
 "cells": [
  {
   "cell_type": "code",
   "execution_count": 1,
   "metadata": {},
   "outputs": [
    {
     "name": "stderr",
     "output_type": "stream",
     "text": [
      "/Users/timothyb0912/anaconda/lib/python2.7/site-packages/IPython/html.py:14: ShimWarning: The `IPython.html` package has been deprecated. You should import from `notebook` instead. `IPython.html.widgets` has moved to `ipywidgets`.\n",
      "  \"`IPython.html.widgets` has moved to `ipywidgets`.\", ShimWarning)\n"
     ]
    }
   ],
   "source": [
    "import sys\n",
    "from collections import OrderedDict\n",
    "import scipy.stats\n",
    "import numpy as np\n",
    "import pandas as pd\n",
    "import pylogit as pl\n",
    "import matplotlib.pyplot as plt\n",
    "\n",
    "sys.path.insert(0, '../src')\n",
    "from visualization import predictive_viz as viz\n",
    "\n",
    "%matplotlib inline"
   ]
  },
  {
   "cell_type": "markdown",
   "metadata": {},
   "source": [
    "# Generate fake data"
   ]
  },
  {
   "cell_type": "code",
   "execution_count": 2,
   "metadata": {},
   "outputs": [
    {
     "name": "stderr",
     "output_type": "stream",
     "text": [
      "Simulating Choices: 100%|██████████| 500/500 [00:00<00:00, 28154.98it/s]\n"
     ]
    }
   ],
   "source": [
    "np.random.seed(1019)\n",
    "\n",
    "num_obs = 500\n",
    "x_1 = scipy.stats.gamma.rvs(a=4, scale=0.5, size=num_obs)\n",
    "\n",
    "def logistic(x):\n",
    "    v = -2 + 2 * x - x**2\n",
    "    neg_v = np.clip(-1 * v, -1e700, 1e300)\n",
    "    return 1 / (1 + np.exp(neg_v))\n",
    "\n",
    "y_probs_1 = logistic(x_1)\n",
    "\n",
    "x = np.concatenate((x_1[:, None], np.zeros(num_obs)[:, None]),\n",
    "                   axis=1).ravel()\n",
    "\n",
    "y_probs = np.concatenate((y_probs_1[:, None], (1 - y_probs_1)[:, None]),\n",
    "                   axis=1).ravel()\n",
    "\n",
    "obs_ids = np.repeat(np.arange(num_obs) + 1 , 2)\n",
    "\n",
    "y = viz.simulate_choice_vector(y_probs, obs_ids).ravel()\n",
    "\n",
    "df = pd.DataFrame({'obs_id': obs_ids,\n",
    "                   'alt_id': np.tile(np.array([1, 2]), num_obs),\n",
    "                   'x': x, 'sin_x':np.sin(x),\n",
    "                   'x2':x**2, 'x3':x**3,\n",
    "                   'x4':x**4, 'x5':x**5,\n",
    "                   'y': y})\n"
   ]
  },
  {
   "cell_type": "markdown",
   "metadata": {},
   "source": [
    "# Generate correct and incorrect specifications"
   ]
  },
  {
   "cell_type": "code",
   "execution_count": 3,
   "metadata": {},
   "outputs": [],
   "source": [
    "bad_spec = OrderedDict()\n",
    "bad_names = OrderedDict()\n",
    "\n",
    "bad_spec['intercept'] = [1]\n",
    "bad_names['intercept'] = ['intercept']\n",
    "\n",
    "bad_spec['x'] = 'all_same'\n",
    "bad_names['x'] = 'x'\n",
    "\n",
    "good_spec = OrderedDict()\n",
    "good_names = OrderedDict()\n",
    "\n",
    "good_spec['intercept'] = [1]\n",
    "good_names['intercept'] = ['intercept']\n",
    "\n",
    "good_spec['x'] = 'all_same'\n",
    "good_names['x'] = 'x'\n",
    "\n",
    "good_spec['x2'] = 'all_same'\n",
    "good_names['x2'] = 'x2'\n",
    "\n",
    "overfit_spec = OrderedDict()\n",
    "overfit_names = OrderedDict()\n",
    "\n",
    "overfit_spec['intercept'] = [1]\n",
    "overfit_names['intercept'] = ['intercept']\n",
    "\n",
    "overfit_spec['x'] = 'all_same'\n",
    "overfit_names['x'] = 'x'\n",
    "\n",
    "overfit_spec['sin_x'] = 'all_same'\n",
    "overfit_names['sin_x'] = 'sin_x'\n",
    "\n",
    "overfit_spec['x3'] = 'all_same'\n",
    "overfit_names['x3'] = 'x3'\n",
    "\n",
    "overfit_spec['x5'] = 'all_same'\n",
    "overfit_names['x5'] = 'x5'\n"
   ]
  },
  {
   "cell_type": "code",
   "execution_count": 4,
   "metadata": {},
   "outputs": [
    {
     "name": "stdout",
     "output_type": "stream",
     "text": [
      "Log-likelihood at zero: -346.5736\n",
      "Initial Log-likelihood: -346.5736\n",
      "Estimation Time for Point Estimation: 0.01 seconds.\n",
      "Final log-likelihood: -174.7853\n"
     ]
    },
    {
     "name": "stderr",
     "output_type": "stream",
     "text": [
      "/Users/timothyb0912/anaconda/lib/python2.7/site-packages/scipy/optimize/_minimize.py:507: RuntimeWarning: Method bfgs does not use Hessian information (hess).\n",
      "  RuntimeWarning)\n"
     ]
    },
    {
     "data": {
      "text/html": [
       "<table class=\"simpletable\">\n",
       "<caption>Multinomial Logit Model Regression Results</caption>\n",
       "<tr>\n",
       "  <th>Dep. Variable:</th>            <td>y</td>            <th>  No. Observations:  </th>    <td>500</td>  \n",
       "</tr>\n",
       "<tr>\n",
       "  <th>Model:</th>         <td>Multinomial Logit Model</td> <th>  Df Residuals:      </th>    <td>498</td>  \n",
       "</tr>\n",
       "<tr>\n",
       "  <th>Method:</th>                  <td>MLE</td>           <th>  Df Model:          </th>     <td>2</td>   \n",
       "</tr>\n",
       "<tr>\n",
       "  <th>Date:</th>             <td>Sun, 10 Jun 2018</td>     <th>  Pseudo R-squ.:     </th>   <td>0.496</td> \n",
       "</tr>\n",
       "<tr>\n",
       "  <th>Time:</th>                 <td>18:04:38</td>         <th>  Pseudo R-bar-squ.: </th>   <td>0.490</td> \n",
       "</tr>\n",
       "<tr>\n",
       "  <th>AIC:</th>                   <td>353.571</td>         <th>  Log-Likelihood:    </th> <td>-174.785</td>\n",
       "</tr>\n",
       "<tr>\n",
       "  <th>BIC:</th>                   <td>362.000</td>         <th>  LL-Null:           </th> <td>-346.574</td>\n",
       "</tr>\n",
       "</table>\n",
       "<table class=\"simpletable\">\n",
       "<tr>\n",
       "      <td></td>         <th>coef</th>     <th>std err</th>      <th>z</th>      <th>P>|z|</th>  <th>[0.025</th>    <th>0.975]</th>  \n",
       "</tr>\n",
       "<tr>\n",
       "  <th>intercept</th> <td>   -0.0204</td> <td>    0.327</td> <td>   -0.062</td> <td> 0.950</td> <td>   -0.661</td> <td>    0.621</td>\n",
       "</tr>\n",
       "<tr>\n",
       "  <th>x</th>         <td>   -1.1008</td> <td>    0.206</td> <td>   -5.350</td> <td> 0.000</td> <td>   -1.504</td> <td>   -0.698</td>\n",
       "</tr>\n",
       "</table>"
      ],
      "text/plain": [
       "<class 'statsmodels.iolib.summary.Summary'>\n",
       "\"\"\"\n",
       "                     Multinomial Logit Model Regression Results                    \n",
       "===================================================================================\n",
       "Dep. Variable:                           y   No. Observations:                  500\n",
       "Model:             Multinomial Logit Model   Df Residuals:                      498\n",
       "Method:                                MLE   Df Model:                            2\n",
       "Date:                     Sun, 10 Jun 2018   Pseudo R-squ.:                   0.496\n",
       "Time:                             18:04:38   Pseudo R-bar-squ.:               0.490\n",
       "AIC:                               353.571   Log-Likelihood:               -174.785\n",
       "BIC:                               362.000   LL-Null:                      -346.574\n",
       "==============================================================================\n",
       "                 coef    std err          z      P>|z|      [0.025      0.975]\n",
       "------------------------------------------------------------------------------\n",
       "intercept     -0.0204      0.327     -0.062      0.950      -0.661       0.621\n",
       "x             -1.1008      0.206     -5.350      0.000      -1.504      -0.698\n",
       "==============================================================================\n",
       "\"\"\""
      ]
     },
     "execution_count": 4,
     "metadata": {},
     "output_type": "execute_result"
    }
   ],
   "source": [
    "# Estimate both models\n",
    "bad_mnl = pl.create_choice_model(df,\n",
    "                                 'alt_id',\n",
    "                                 'obs_id',\n",
    "                                 'y',\n",
    "                                 bad_spec,\n",
    "                                 model_type='MNL',\n",
    "                                 names=bad_names)\n",
    "bad_mnl.fit_mle(np.zeros(len(bad_names)), method='bfgs')\n",
    "bad_mnl.get_statsmodels_summary()"
   ]
  },
  {
   "cell_type": "code",
   "execution_count": 5,
   "metadata": {},
   "outputs": [
    {
     "name": "stdout",
     "output_type": "stream",
     "text": [
      "Log-likelihood at zero: -346.5736\n",
      "Initial Log-likelihood: -346.5736\n",
      "Estimation Time for Point Estimation: 0.01 seconds.\n",
      "Final log-likelihood: -171.4051\n"
     ]
    },
    {
     "data": {
      "text/html": [
       "<table class=\"simpletable\">\n",
       "<caption>Multinomial Logit Model Regression Results</caption>\n",
       "<tr>\n",
       "  <th>Dep. Variable:</th>            <td>y</td>            <th>  No. Observations:  </th>    <td>500</td>  \n",
       "</tr>\n",
       "<tr>\n",
       "  <th>Model:</th>         <td>Multinomial Logit Model</td> <th>  Df Residuals:      </th>    <td>497</td>  \n",
       "</tr>\n",
       "<tr>\n",
       "  <th>Method:</th>                  <td>MLE</td>           <th>  Df Model:          </th>     <td>3</td>   \n",
       "</tr>\n",
       "<tr>\n",
       "  <th>Date:</th>             <td>Sun, 10 Jun 2018</td>     <th>  Pseudo R-squ.:     </th>   <td>0.505</td> \n",
       "</tr>\n",
       "<tr>\n",
       "  <th>Time:</th>                 <td>18:04:38</td>         <th>  Pseudo R-bar-squ.: </th>   <td>0.497</td> \n",
       "</tr>\n",
       "<tr>\n",
       "  <th>AIC:</th>                   <td>348.810</td>         <th>  Log-Likelihood:    </th> <td>-171.405</td>\n",
       "</tr>\n",
       "<tr>\n",
       "  <th>BIC:</th>                   <td>361.454</td>         <th>  LL-Null:           </th> <td>-346.574</td>\n",
       "</tr>\n",
       "</table>\n",
       "<table class=\"simpletable\">\n",
       "<tr>\n",
       "      <td></td>         <th>coef</th>     <th>std err</th>      <th>z</th>      <th>P>|z|</th>  <th>[0.025</th>    <th>0.975]</th>  \n",
       "</tr>\n",
       "<tr>\n",
       "  <th>intercept</th> <td>   -1.7237</td> <td>    0.806</td> <td>   -2.139</td> <td> 0.032</td> <td>   -3.303</td> <td>   -0.144</td>\n",
       "</tr>\n",
       "<tr>\n",
       "  <th>x</th>         <td>    1.3849</td> <td>    1.101</td> <td>    1.258</td> <td> 0.209</td> <td>   -0.773</td> <td>    3.543</td>\n",
       "</tr>\n",
       "<tr>\n",
       "  <th>x2</th>        <td>   -0.7744</td> <td>    0.355</td> <td>   -2.184</td> <td> 0.029</td> <td>   -1.469</td> <td>   -0.079</td>\n",
       "</tr>\n",
       "</table>"
      ],
      "text/plain": [
       "<class 'statsmodels.iolib.summary.Summary'>\n",
       "\"\"\"\n",
       "                     Multinomial Logit Model Regression Results                    \n",
       "===================================================================================\n",
       "Dep. Variable:                           y   No. Observations:                  500\n",
       "Model:             Multinomial Logit Model   Df Residuals:                      497\n",
       "Method:                                MLE   Df Model:                            3\n",
       "Date:                     Sun, 10 Jun 2018   Pseudo R-squ.:                   0.505\n",
       "Time:                             18:04:38   Pseudo R-bar-squ.:               0.497\n",
       "AIC:                               348.810   Log-Likelihood:               -171.405\n",
       "BIC:                               361.454   LL-Null:                      -346.574\n",
       "==============================================================================\n",
       "                 coef    std err          z      P>|z|      [0.025      0.975]\n",
       "------------------------------------------------------------------------------\n",
       "intercept     -1.7237      0.806     -2.139      0.032      -3.303      -0.144\n",
       "x              1.3849      1.101      1.258      0.209      -0.773       3.543\n",
       "x2            -0.7744      0.355     -2.184      0.029      -1.469      -0.079\n",
       "==============================================================================\n",
       "\"\"\""
      ]
     },
     "execution_count": 5,
     "metadata": {},
     "output_type": "execute_result"
    }
   ],
   "source": [
    "# Estimate both models\n",
    "good_mnl = pl.create_choice_model(df,\n",
    "                                 'alt_id',\n",
    "                                 'obs_id',\n",
    "                                 'y',\n",
    "                                 good_spec,\n",
    "                                 model_type='MNL',\n",
    "                                 names=good_names)\n",
    "good_mnl.fit_mle(np.zeros(len(good_names)), method='bfgs')\n",
    "good_mnl.get_statsmodels_summary()"
   ]
  },
  {
   "cell_type": "code",
   "execution_count": 6,
   "metadata": {},
   "outputs": [
    {
     "name": "stdout",
     "output_type": "stream",
     "text": [
      "Log-likelihood at zero: -346.5736\n",
      "Initial Log-likelihood: -346.5736\n",
      "Estimation Time for Point Estimation: 0.03 seconds.\n",
      "Final log-likelihood: -170.1661\n"
     ]
    },
    {
     "data": {
      "text/html": [
       "<table class=\"simpletable\">\n",
       "<caption>Multinomial Logit Model Regression Results</caption>\n",
       "<tr>\n",
       "  <th>Dep. Variable:</th>            <td>y</td>            <th>  No. Observations:  </th>    <td>500</td>  \n",
       "</tr>\n",
       "<tr>\n",
       "  <th>Model:</th>         <td>Multinomial Logit Model</td> <th>  Df Residuals:      </th>    <td>495</td>  \n",
       "</tr>\n",
       "<tr>\n",
       "  <th>Method:</th>                  <td>MLE</td>           <th>  Df Model:          </th>     <td>5</td>   \n",
       "</tr>\n",
       "<tr>\n",
       "  <th>Date:</th>             <td>Sun, 10 Jun 2018</td>     <th>  Pseudo R-squ.:     </th>   <td>0.509</td> \n",
       "</tr>\n",
       "<tr>\n",
       "  <th>Time:</th>                 <td>18:04:38</td>         <th>  Pseudo R-bar-squ.: </th>   <td>0.495</td> \n",
       "</tr>\n",
       "<tr>\n",
       "  <th>AIC:</th>                   <td>350.332</td>         <th>  Log-Likelihood:    </th> <td>-170.166</td>\n",
       "</tr>\n",
       "<tr>\n",
       "  <th>BIC:</th>                   <td>371.405</td>         <th>  LL-Null:           </th> <td>-346.574</td>\n",
       "</tr>\n",
       "</table>\n",
       "<table class=\"simpletable\">\n",
       "<tr>\n",
       "      <td></td>         <th>coef</th>     <th>std err</th>      <th>z</th>      <th>P>|z|</th>  <th>[0.025</th>    <th>0.975]</th>  \n",
       "</tr>\n",
       "<tr>\n",
       "  <th>intercept</th> <td>   -3.1008</td> <td>    1.346</td> <td>   -2.304</td> <td> 0.021</td> <td>   -5.738</td> <td>   -0.463</td>\n",
       "</tr>\n",
       "<tr>\n",
       "  <th>x</th>         <td>  -55.3869</td> <td>   48.348</td> <td>   -1.146</td> <td> 0.252</td> <td> -150.146</td> <td>   39.373</td>\n",
       "</tr>\n",
       "<tr>\n",
       "  <th>sin_x</th>     <td>   58.7371</td> <td>   50.007</td> <td>    1.175</td> <td> 0.240</td> <td>  -39.275</td> <td>  156.749</td>\n",
       "</tr>\n",
       "<tr>\n",
       "  <th>x3</th>        <td>    8.4129</td> <td>    7.589</td> <td>    1.109</td> <td> 0.268</td> <td>   -6.460</td> <td>   23.286</td>\n",
       "</tr>\n",
       "<tr>\n",
       "  <th>x5</th>        <td>   -0.2873</td> <td>    0.272</td> <td>   -1.058</td> <td> 0.290</td> <td>   -0.819</td> <td>    0.245</td>\n",
       "</tr>\n",
       "</table>"
      ],
      "text/plain": [
       "<class 'statsmodels.iolib.summary.Summary'>\n",
       "\"\"\"\n",
       "                     Multinomial Logit Model Regression Results                    \n",
       "===================================================================================\n",
       "Dep. Variable:                           y   No. Observations:                  500\n",
       "Model:             Multinomial Logit Model   Df Residuals:                      495\n",
       "Method:                                MLE   Df Model:                            5\n",
       "Date:                     Sun, 10 Jun 2018   Pseudo R-squ.:                   0.509\n",
       "Time:                             18:04:38   Pseudo R-bar-squ.:               0.495\n",
       "AIC:                               350.332   Log-Likelihood:               -170.166\n",
       "BIC:                               371.405   LL-Null:                      -346.574\n",
       "==============================================================================\n",
       "                 coef    std err          z      P>|z|      [0.025      0.975]\n",
       "------------------------------------------------------------------------------\n",
       "intercept     -3.1008      1.346     -2.304      0.021      -5.738      -0.463\n",
       "x            -55.3869     48.348     -1.146      0.252    -150.146      39.373\n",
       "sin_x         58.7371     50.007      1.175      0.240     -39.275     156.749\n",
       "x3             8.4129      7.589      1.109      0.268      -6.460      23.286\n",
       "x5            -0.2873      0.272     -1.058      0.290      -0.819       0.245\n",
       "==============================================================================\n",
       "\"\"\""
      ]
     },
     "execution_count": 6,
     "metadata": {},
     "output_type": "execute_result"
    }
   ],
   "source": [
    "# Estimate both models\n",
    "overfit_mnl = pl.create_choice_model(df,\n",
    "                                 'alt_id',\n",
    "                                 'obs_id',\n",
    "                                 'y',\n",
    "                                 overfit_spec,\n",
    "                                 model_type='MNL',\n",
    "                                 names=overfit_names)\n",
    "overfit_mnl.fit_mle(np.zeros(len(overfit_names)), method='bfgs')\n",
    "overfit_mnl.get_statsmodels_summary()"
   ]
  },
  {
   "cell_type": "code",
   "execution_count": 7,
   "metadata": {
    "collapsed": true
   },
   "outputs": [],
   "source": [
    "# Get the probabilities of y = 1 according to the three models\n",
    "# and order the probabilities according to increasing x-values\n",
    "alt_1_rows = np.where((df['alt_id'] == 1).values)[0]\n",
    "alt_1_order = np.argsort(x_1)\n",
    "\n",
    "p_underfit = bad_mnl.long_fitted_probs[alt_1_rows][alt_1_order]\n",
    "p_true = good_mnl.long_fitted_probs[alt_1_rows][alt_1_order]\n",
    "p_overfit = overfit_mnl.long_fitted_probs[alt_1_rows][alt_1_order]"
   ]
  },
  {
   "cell_type": "code",
   "execution_count": 8,
   "metadata": {},
   "outputs": [
    {
     "data": {
      "text/plain": [
       "(0.13199999970126883, 0.13199999999997622, 0.13199999995462905)"
      ]
     },
     "execution_count": 8,
     "metadata": {},
     "output_type": "execute_result"
    }
   ],
   "source": [
    "p_true.mean(), p_underfit.mean(), p_overfit.mean()"
   ]
  },
  {
   "cell_type": "code",
   "execution_count": 9,
   "metadata": {},
   "outputs": [
    {
     "data": {
      "image/png": "[encoded data removed]",
      "text/plain": [
       "<matplotlib.figure.Figure at 0x11cafa310>"
      ]
     },
     "metadata": {},
     "output_type": "display_data"
    }
   ],
   "source": [
    "x_line = x_1[alt_1_order]\n",
    "\n",
    "overfit_color =\\\n",
    "    (0.984313725490196, 0.6039215686274509, 0.6)\n",
    "# underfit_color = '#a6bddb'\n",
    "underfit_color =\\\n",
    "    (0.792156862745098, 0.6980392156862745, 0.8392156862745098)\n",
    "\n",
    "fig, ax = plt.subplots(1, figsize=(10, 6))\n",
    "ax.plot(x_line, p_underfit, linestyle='--',\n",
    "        c=underfit_color, label='Underfit')\n",
    "ax.plot(x_line, p_true, c='#045a8d', label='True')\n",
    "ax.plot(x_line, p_overfit, linestyle='-.',\n",
    "        c=overfit_color, label='Overfit')\n",
    "\n",
    "# ax.set_xlabel('Bicycle Travel Distance (miles)', fontsize=12)\n",
    "# ax.set_ylabel('Probability\\nof Bicycling',\n",
    "#               rotation=0, labelpad=40, fontsize=12)\n",
    "ax.set_xlabel('X', fontsize=12)\n",
    "ax.set_ylabel('P(Y = 1 | X)',\n",
    "              rotation=0, labelpad=40, fontsize=12)\n",
    "\n",
    "ax.legend(loc='best')\n",
    "\n",
    "fig.tight_layout()\n",
    "fig.savefig('../reports/figures/underfitting_example.pdf',\n",
    "            dpi=500, bbox_inches='tight')"
   ]
  }
 ],
 "metadata": {
  "jupytext": {
   "formats": "ipynb,py:light"
  },
  "kernelspec": {
   "display_name": "Python 3",
   "language": "python",
   "name": "python3"
  },
  "language_info": {
   "codemirror_mode": {
    "name": "ipython",
    "version": 3
   },
   "file_extension": ".py",
   "mimetype": "text/x-python",
   "name": "python",
   "nbconvert_exporter": "python",
   "pygments_lexer": "ipython3",
   "version": "3.7.6"
  }
 },
 "nbformat": 4,
 "nbformat_minor": 1
}
