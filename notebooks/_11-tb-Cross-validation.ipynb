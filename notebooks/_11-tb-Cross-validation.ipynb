{
 "cells": [
  {
   "cell_type": "code",
   "execution_count": 1,
   "metadata": {},
   "outputs": [
    {
     "name": "stderr",
     "output_type": "stream",
     "text": [
      "/Users/timothyb0912/anaconda/lib/python2.7/site-packages/IPython/html.py:14: ShimWarning: The `IPython.html` package has been deprecated. You should import from `notebook` instead. `IPython.html.widgets` has moved to `ipywidgets`.\n",
      "  \"`IPython.html.widgets` has moved to `ipywidgets`.\", ShimWarning)\n"
     ]
    }
   ],
   "source": [
    "import sys\n",
    "import time\n",
    "from collections import OrderedDict, defaultdict\n",
    "\n",
    "import scipy.stats\n",
    "import pandas as pd\n",
    "import numpy as np\n",
    "\n",
    "import pylogit as pl\n",
    "\n",
    "from tqdm import tqdm\n",
    "\n",
    "sys.path.insert(0, '../src')\n",
    "from visualization import predictive_viz as viz\n",
    "\n",
    "%matplotlib inline"
   ]
  },
  {
   "cell_type": "markdown",
   "metadata": {},
   "source": [
    "# Load the car data"
   ]
  },
  {
   "cell_type": "code",
   "execution_count": 2,
   "metadata": {
    "collapsed": true
   },
   "outputs": [],
   "source": [
    "car_df = pd.read_csv(\"../data/processed/model_ready_car_data.csv\")"
   ]
  },
  {
   "cell_type": "markdown",
   "metadata": {},
   "source": [
    "# Create specification and name dictionaries"
   ]
  },
  {
   "cell_type": "code",
   "execution_count": 3,
   "metadata": {
    "collapsed": true
   },
   "outputs": [],
   "source": [
    "def create_interaction_spec_and_names(list_of_cols_and_names):\n",
    "    # Create interaction variables for the various body types\n",
    "    body_names = ['sports_utility_vehicle',\n",
    "                  'sports_car',\n",
    "                  'station_wagon',\n",
    "                  'truck',\n",
    "                  'van']\n",
    "\n",
    "    non_body_or_fuel_vars = ['price_over_log_income',\n",
    "                             'price_over_log_income_lte_3',\n",
    "                             'price_over_log_income_gt_3',\n",
    "                             'range_over_100',\n",
    "                             'acceleration_over_10',\n",
    "                             'top_speed_over_100',\n",
    "                             'pollution',\n",
    "                             'vehicle_size_over_10',\n",
    "                             'tens_of_cents_per_mile']\n",
    "\n",
    "    body_interactions = defaultdict(lambda : [])\n",
    "\n",
    "    for body in body_names:\n",
    "        for interaction_var in non_body_or_fuel_vars:\n",
    "            new_name = interaction_var + \"_for_\" + body\n",
    "            # Store the new variable name\n",
    "            body_interactions[interaction_var].append(new_name)\n",
    "\n",
    "    # Create interaction variables for the various fuel types\n",
    "    fuel_names = ['electric',\n",
    "                  'compressed_natural_gas',\n",
    "                  'methanol']\n",
    "\n",
    "    fuel_interaction_vars = ['price_over_log_income',\n",
    "                             'price_over_log_income_lte_3',\n",
    "                             'price_over_log_income_gt_3',\n",
    "                             'range_over_100',\n",
    "                             'top_speed_over_100',\n",
    "                             'pollution',\n",
    "                             'vehicle_size_over_10',\n",
    "                             'tens_of_cents_per_mile']\n",
    "\n",
    "    fuel_interactions = defaultdict(lambda : [])\n",
    "\n",
    "    for fuel in fuel_names:\n",
    "        for interaction_var in fuel_interaction_vars:\n",
    "            new_name = interaction_var + \"_for_\" + fuel\n",
    "            # Store the new variable name\n",
    "            fuel_interactions[interaction_var].append(new_name)\n",
    "            \n",
    "    # Create specification and name objects\n",
    "    spec_dict, name_dict = OrderedDict(), OrderedDict()\n",
    "            \n",
    "    for col, display_name in list_of_cols_and_names:\n",
    "        if col in body_interactions:\n",
    "            for interaction_col in body_interactions[col]:\n",
    "                suffix = interaction_col[interaction_col.rfind(\"for_\") + 4:]\n",
    "                new_display_name = display_name + \" ({})\".format(suffix)\n",
    "\n",
    "                if car_df[interaction_col].unique().size == 1:\n",
    "                    continue\n",
    "\n",
    "                spec_dict[interaction_col] = 'all_same'\n",
    "                name_dict[interaction_col] = new_display_name\n",
    "\n",
    "            for interaction_col in fuel_interactions[col]:\n",
    "                suffix = interaction_col[interaction_col.rfind(\"for_\") + 4:]\n",
    "                new_display_name = display_name + \"({})\".format(suffix)\n",
    "\n",
    "                if car_df[interaction_col].unique().size == 1:\n",
    "                    continue\n",
    "\n",
    "                spec_dict[interaction_col] = 'all_same'\n",
    "                name_dict[interaction_col] = new_display_name\n",
    "\n",
    "        spec_dict[col] = 'all_same'\n",
    "        name_dict[col] = display_name\n",
    "        \n",
    "    return spec_dict, name_dict\n"
   ]
  },
  {
   "cell_type": "code",
   "execution_count": 4,
   "metadata": {
    "collapsed": true
   },
   "outputs": [],
   "source": [
    "# Create the specification and names for the original MNL model\n",
    "car_mnl_spec, car_mnl_names = OrderedDict(), OrderedDict()\n",
    "\n",
    "cols_and_display_names =\\\n",
    "    [('price_over_log_income', 'Price over log(income)'),\n",
    "     ('range_over_100', 'Range (units: 100mi)'),\n",
    "     ('acceleration_over_10', 'Acceleration (units: 0.1sec)'),\n",
    "     ('top_speed_over_100', 'Top speed (units: 0.01mph)'),\n",
    "     ('pollution', 'Pollution'),\n",
    "     ('vehicle_size_over_10', 'Size'),\n",
    "     ('big_enough', 'Big enough'),\n",
    "     ('luggage_space', 'Luggage space'),\n",
    "     ('tens_of_cents_per_mile', 'Operation cost'),\n",
    "     ('station_availability', 'Station availability'),\n",
    "     ('sports_utility_vehicle', 'Sports utility vehicle'),\n",
    "     ('sports_car', 'Sports car'),\n",
    "     ('station_wagon', 'Station wagon'),\n",
    "     ('truck', 'Truck'),\n",
    "     ('van', 'Van'),\n",
    "     ('electric', 'EV'),\n",
    "     ('electric_commute_lte_5mi', 'Commute < 5 & EV'),\n",
    "     ('electric_and_college', 'College & EV'),\n",
    "     ('compressed_natural_gas', 'CNG'),\n",
    "     ('methanol', 'Methanol'),\n",
    "     ('methanol_and_college', 'College & Methanol')]\n",
    "    \n",
    "for col, display_name in cols_and_display_names:\n",
    "    car_mnl_spec[col] = 'all_same'\n",
    "    car_mnl_names[col] = display_name\n"
   ]
  },
  {
   "cell_type": "code",
   "execution_count": 5,
   "metadata": {
    "collapsed": true
   },
   "outputs": [],
   "source": [
    "# Create the specification and names for the interaction MNL model\n",
    "interaction_mnl_spec_full, interaction_mnl_names_full =\\\n",
    "    OrderedDict(), OrderedDict()\n",
    "\n",
    "interaction_cols_and_display_names =\\\n",
    "    [('price_over_log_income_lte_3', 'Price over log(income) <= 3'),\n",
    "     ('price_over_log_income_gt_3', 'Price over log(income) > 3'),\n",
    "     ('range_over_100', 'Range (units: 100mi)'),\n",
    "     ('acceleration_over_10', 'Acceleration (units: 0.1sec)'),\n",
    "     ('top_speed_over_100', 'Top speed (units: 0.01mph)'),\n",
    "     ('pollution', 'Pollution'),\n",
    "     ('vehicle_size_over_10', 'Size'),\n",
    "     ('big_enough', 'Big enough'),\n",
    "     ('luggage_space', 'Luggage space'),\n",
    "     ('tens_of_cents_per_mile', 'Operation cost'),\n",
    "     ('station_availability', 'Station availability'),\n",
    "     ('sports_utility_vehicle', 'Sports utility vehicle'),\n",
    "     ('sports_car', 'Sports car'),\n",
    "     ('station_wagon', 'Station wagon'),\n",
    "     ('truck', 'Truck'),\n",
    "     ('van', 'Van'),\n",
    "     ('electric', 'EV'),\n",
    "     ('electric_commute_lte_5mi', 'Commute < 5 & EV'),\n",
    "     ('electric_and_college', 'College & EV'),\n",
    "     ('compressed_natural_gas', 'CNG'),\n",
    "     ('methanol', 'Methanol'),\n",
    "     ('methanol_and_college', 'College & Methanol')]\n",
    "    \n",
    "interaction_mnl_spec, interaction_mnl_names =\\\n",
    "    create_interaction_spec_and_names(interaction_cols_and_display_names)"
   ]
  },
  {
   "cell_type": "markdown",
   "metadata": {},
   "source": [
    "# Set up the cross-validation"
   ]
  },
  {
   "cell_type": "code",
   "execution_count": 6,
   "metadata": {
    "collapsed": true
   },
   "outputs": [],
   "source": [
    "# Determine the number of folds\n",
    "n_folds = 10\n",
    "\n",
    "# Set a random seed for reproducibility\n",
    "np.random.seed(910)\n",
    "\n",
    "# Shuffle the original observation ids\n",
    "shuffled_obs_ids = np.sort(car_df.obs_id.unique())\n",
    "np.random.shuffle(shuffled_obs_ids)\n",
    "\n",
    "# Determine the number of observations for each fold\n",
    "n_obs = shuffled_obs_ids.shape[0]\n",
    "n_obs_per_fold = viz._determine_bin_obs(n_obs, n_folds)\n",
    "\n",
    "# Initialize a list to store the fold assignments\n",
    "obs_in_fold = []\n",
    "# Initialize the count of assigned observations\n",
    "assigned_obs = 0\n",
    "\n",
    "# Determine the observations for each fold\n",
    "for i in xrange(n_folds):\n",
    "    # Get the number of observations for the current fold\n",
    "    current_n_obs = n_obs_per_fold[i]\n",
    "    # Determine the start and end positions to slice the\n",
    "    # vector of observation ids at\n",
    "    idx_start = assigned_obs\n",
    "    idx_end = assigned_obs + current_n_obs\n",
    "    # Select and store the observations for the i'th fold\n",
    "    obs_in_fold.append(shuffled_obs_ids[idx_start:idx_end])\n",
    "    # Increment the count of assigned observations\n",
    "    assigned_obs += current_n_obs\n",
    "\n",
    "# Perform a sanity check to make sure all is well\n",
    "assert all([n_obs_per_fold[i] == obs_in_fold[i].shape[0]\n",
    "            for i in xrange(n_folds)])"
   ]
  },
  {
   "cell_type": "markdown",
   "metadata": {},
   "source": [
    "# Perform the cross-validation"
   ]
  },
  {
   "cell_type": "code",
   "execution_count": 7,
   "metadata": {
    "collapsed": true
   },
   "outputs": [],
   "source": [
    "def create_and_estimate_mnl(data,\n",
    "                            spec,\n",
    "                            names,\n",
    "                            alt_col='alt_id',\n",
    "                            obs_col='obs_id',\n",
    "                            choice_col='choice'):\n",
    "    # Initialize the mnl model object\n",
    "    car_mnl = pl.create_choice_model(data=data,\n",
    "                                     alt_id_col=alt_col,\n",
    "                                     obs_id_col=obs_col,\n",
    "                                     choice_col=choice_col,\n",
    "                                     specification=spec,\n",
    "                                     model_type='MNL',\n",
    "                                     names=names)\n",
    "\n",
    "    # Create the initial variables for model estimation\n",
    "    num_vars = len(names)\n",
    "    initial_vals = np.zeros(num_vars)\n",
    "\n",
    "    # Estimate the mnl model\n",
    "    car_mnl.fit_mle(initial_vals,\n",
    "                    method='BFGS',\n",
    "                    print_res=False)\n",
    "    \n",
    "    return car_mnl"
   ]
  },
  {
   "cell_type": "code",
   "execution_count": 8,
   "metadata": {},
   "outputs": [
    {
     "name": "stderr",
     "output_type": "stream",
     "text": [
      "Cross-validating:   0%|          | 0/10 [00:00<?, ?it/s]/Users/timothyb0912/anaconda/lib/python2.7/site-packages/scipy/optimize/_minimize.py:507: RuntimeWarning: Method BFGS does not use Hessian information (hess).\n",
      "  RuntimeWarning)\n",
      "Cross-validating: 100%|██████████| 10/10 [03:10<00:00, 19.01s/it]"
     ]
    },
    {
     "name": "stdout",
     "output_type": "stream",
     "text": [
      "Individual cross-validation results:\n",
      "     Original    Expanded\n",
      "0 -750.669847 -751.935343\n",
      "1 -741.905462 -738.304967\n",
      "2 -735.698969 -730.682008\n",
      "3 -732.736795 -735.616298\n",
      "4 -758.651908 -749.775299\n",
      "5 -754.369730 -753.430810\n",
      "6 -732.755484 -731.753511\n",
      "7 -726.796014 -732.055502\n",
      "8 -724.393127 -716.942846\n",
      "9 -753.854771 -756.731513\n",
      "\n",
      "Average cross-validation results:\n",
      "Original   -741.183211\n",
      "Expanded   -739.722810\n",
      "dtype: float64\n"
     ]
    },
    {
     "name": "stderr",
     "output_type": "stream",
     "text": [
      "\n"
     ]
    }
   ],
   "source": [
    "# Initialize an array to hold the\n",
    "# log-likelihoods on the held-out folds\n",
    "test_log_likelihoods = np.empty((n_folds, 2), dtype=float)\n",
    "\n",
    "# Populate the array\n",
    "for test_fold in tqdm(xrange(n_folds), desc='Cross-validating'):\n",
    "    # Get the test observation ids\n",
    "    test_obs_ids = obs_in_fold[test_fold]\n",
    "\n",
    "    # Generate the test and training datasets\n",
    "    test_df = car_df.loc[car_df.obs_id.isin(test_obs_ids)]\n",
    "    train_df = car_df.loc[~car_df.obs_id.isin(test_obs_ids)]\n",
    "\n",
    "    # Estimate the original and interaction MNL models\n",
    "    orig_mnl = create_and_estimate_mnl(train_df,\n",
    "                                       car_mnl_spec,\n",
    "                                       car_mnl_names)\n",
    "\n",
    "    interaction_mnl =\\\n",
    "        create_and_estimate_mnl(train_df,\n",
    "                                interaction_mnl_spec,\n",
    "                                interaction_mnl_names)\n",
    "\n",
    "    # Make predictions on the held-out data\n",
    "    orig_predictions = orig_mnl.predict(test_df)\n",
    "    interaction_predictions = interaction_mnl.predict(test_df)\n",
    "    \n",
    "    # Isolate the test outcomes\n",
    "    test_y = test_df.choice.values\n",
    "    \n",
    "    # Calculate test log-likelihoods\n",
    "    orig_log_likelihood = test_y.dot(np.log(orig_predictions))\n",
    "    interaction_log_likelihood =\\\n",
    "        test_y.dot(np.log(interaction_predictions))\n",
    "    \n",
    "    # Store the test log-likelihoods\n",
    "    test_log_likelihoods[test_fold] =\\\n",
    "        [orig_log_likelihood, interaction_log_likelihood]\n",
    "        \n",
    "# Create a dataframe of the cross-validation performance\n",
    "cv_df = pd.DataFrame(test_log_likelihoods, columns=['Original', 'Expanded'])\n",
    "print('Individual cross-validation results:')\n",
    "print(cv_df)\n",
    "\n",
    "print('\\nAverage cross-validation results:')\n",
    "print(cv_df.mean())"
   ]
  }
 ],
 "metadata": {
  "jupytext": {
   "formats": "ipynb,py:light"
  },
  "kernelspec": {
   "display_name": "Python 3",
   "language": "python",
   "name": "python3"
  },
  "language_info": {
   "codemirror_mode": {
    "name": "ipython",
    "version": 3
   },
   "file_extension": ".py",
   "mimetype": "text/x-python",
   "name": "python",
   "nbconvert_exporter": "python",
   "pygments_lexer": "ipython3",
   "version": "3.7.6"
  }
 },
 "nbformat": 4,
 "nbformat_minor": 1
}
