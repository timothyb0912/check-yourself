{
 "cells": [
  {
   "cell_type": "markdown",
   "metadata": {},
   "source": [
    "# Purpose\n",
    "The purpose of this notebook is to demonstrate the use of possterior predictive checks for checking one's discrete choice models.\n"
   ]
  },
  {
   "cell_type": "markdown",
   "metadata": {},
   "source": [
    "## Import needed packages"
   ]
  },
  {
   "cell_type": "code",
   "execution_count": 1,
   "metadata": {},
   "outputs": [],
   "source": [
    "import sys\n",
    "from collections import OrderedDict\n",
    "\n",
    "import scipy.stats\n",
    "import pandas as pd\n",
    "import numpy as np\n",
    "\n",
    "import pylogit as pl\n",
    "\n",
    "sys.path.insert(0, '../src')\n",
    "from visualization import predictive_viz as viz\n",
    "\n",
    "%matplotlib inline"
   ]
  },
  {
   "cell_type": "markdown",
   "metadata": {},
   "source": [
    "## Define helper functions"
   ]
  },
  {
   "cell_type": "code",
   "execution_count": null,
   "metadata": {},
   "outputs": [],
   "source": [
    "def unpack_on_binder(zip_file_path, temp_dir='./temp'):\n",
    "    import os\n",
    "    import json\n",
    "    from zipfile import ZipFile\n",
    "    import pandas as pd\n",
    "    from collections import OrderedDict\n",
    "\n",
    "    # Unpack the zip file to the temporary directory.\n",
    "    with ZipFile(zip_file_path, 'r') as zipfile:\n",
    "        zipfile.extractall(temp_dir)\n",
    "\n",
    "    # Load the needed objects from the temporary directory\n",
    "    cov_path = os.path.join(temp_dir, 'cov.csv')\n",
    "    cov_df = pd.read_csv(cov_path, index_col=0)\n",
    "\n",
    "    df_path = os.path.join(temp_dir, 'df.csv')\n",
    "    df = pd.read_csv(df_path)\n",
    "\n",
    "    param_path = os.path.join(temp_dir, 'params.csv')\n",
    "    params =\\\n",
    "        pd.read_csv(param_path,\n",
    "                    index_col=0,\n",
    "                    names=['value']).iloc[:, 0]\n",
    "\n",
    "    spec_path = os.path.join(temp_dir, 'spec.json')\n",
    "    with open(spec_path, 'rb') as f:\n",
    "        spec = json.load(f, object_pairs_hook=OrderedDict)\n",
    "    # Convert all entries to strings\n",
    "    new_spec = OrderedDict()\n",
    "    for key, value in spec.items():\n",
    "        new_spec[str(key)] = value\n",
    "\n",
    "    name_path = os.path.join(temp_dir, 'names.json')\n",
    "    with open(name_path, 'rb') as f:\n",
    "        name_spec = json.load(f, object_pairs_hook=OrderedDict)\n",
    "    # Convert all entries to strings\n",
    "    new_name_spec = OrderedDict()\n",
    "    for key, value in name_spec.items():\n",
    "        new_name_spec[str(key)] = list(map(lambda x: str(x), value))\n",
    "\n",
    "    # Save the alt_id_col, obs_id_col, and choice_col\n",
    "    col_dict_path = os.path.join(temp_dir, 'col_dict.json')\n",
    "    with open(col_dict_path, 'rb') as f:\n",
    "        col_dict = json.load(f)\n",
    "    # Convert all entries to strings\n",
    "    new_col_dict = {str(k): str(v) for k, v in col_dict.items()}\n",
    "\n",
    "    # Package the loaded objects into a dictionary for return\n",
    "    results_dict =\\\n",
    "        {'cov_df': cov_df,\n",
    "         'df': df,\n",
    "         'param_series': params,\n",
    "         'spec_dict': new_spec,\n",
    "         'name_dict': new_name_spec,\n",
    "         'col_dict': new_col_dict}\n",
    "\n",
    "    # Return the created dictionary\n",
    "    return results_dict"
   ]
  },
  {
   "cell_type": "code",
   "execution_count": null,
   "metadata": {},
   "outputs": [],
   "source": []
  },
  {
   "cell_type": "markdown",
   "metadata": {},
   "source": [
    "# Load one's data"
   ]
  },
  {
   "cell_type": "code",
   "execution_count": 3,
   "metadata": {},
   "outputs": [],
   "source": [
    "estimation_results = unpack_on_binder('./temp.zip')\n",
    "\n",
    "df = estimation_results['df']\n",
    "estimated_params = estimation_results['param_series']\n",
    "estimated_cov_df = estimation_results['cov_df']\n",
    "model_col_dict = estimation_results['col_dict']"
   ]
  },
  {
   "cell_type": "markdown",
   "metadata": {},
   "source": [
    "# Recreate the model object"
   ]
  },
  {
   "cell_type": "code",
   "execution_count": 4,
   "metadata": {},
   "outputs": [
    {
     "name": "stderr",
     "output_type": "stream",
     "text": [
      "/Users/tbrathwaite/anaconda2/lib/python2.7/site-packages/pylogit/choice_tools.py:703: FutureWarning: arrays to stack must be passed as a \"sequence\" type such as list or tuple. Support for non-sequence iterables such as generators is deprecated as of NumPy 1.16 and will raise an error in the future.\n",
      "  design_matrix = np.hstack((x[:, None] for x in independent_vars))\n"
     ]
    }
   ],
   "source": [
    "# Recreate the mnl model\n",
    "mnl = pl.create_choice_model(data=df,\n",
    "                             alt_id_col=model_col_dict['alt_id_col'],\n",
    "                             obs_id_col=model_col_dict['obs_id_col'],\n",
    "                             choice_col=model_col_dict['choice_col'],\n",
    "                             specification=estimation_results['spec_dict'],\n",
    "                             model_type='MNL',\n",
    "                             names=estimation_results['name_dict'])"
   ]
  },
  {
   "cell_type": "code",
   "execution_count": null,
   "metadata": {},
   "outputs": [],
   "source": [
    "# Recreate the predicted probabilities\n",
    "long_fitted_probs =\\\n",
    "    mnl.predict(df,\n",
    "                param_list=[estimated_params.values, None, None, None])\n",
    "# Set this attribute on the model object\n",
    "setattr(mnl, 'long_fitted_probs', long_fitted_probs)"
   ]
  },
  {
   "cell_type": "markdown",
   "metadata": {},
   "source": [
    "# MNL Model Checking"
   ]
  },
  {
   "cell_type": "code",
   "execution_count": 5,
   "metadata": {},
   "outputs": [],
   "source": [
    "# Simulate values from the sampling distribution of coefficients\n",
    "mnl_sampling_dist =\\\n",
    "    scipy.stats.multivariate_normal(mean=estimated_params.values,\n",
    "                                    cov=estimated_cov_df.values)"
   ]
  },
  {
   "cell_type": "code",
   "execution_count": 6,
   "metadata": {},
   "outputs": [
    {
     "data": {
      "text/plain": [
       "(1000, 16)"
      ]
     },
     "execution_count": 6,
     "metadata": {},
     "output_type": "execute_result"
    }
   ],
   "source": [
    "# Take Draws from the sampling distribution\n",
    "num_draws = 1000\n",
    "np.random.seed(325)\n",
    "simulated_coefs = mnl_sampling_dist.rvs(num_draws)\n",
    "simulated_coefs.shape"
   ]
  },
  {
   "cell_type": "code",
   "execution_count": 7,
   "metadata": {},
   "outputs": [
    {
     "data": {
      "application/vnd.jupyter.widget-view+json": {
       "model_id": "db5ba51bbd294dbeb8e025aa579565f0",
       "version_major": 2,
       "version_minor": 0
      },
      "text/plain": [
       "SEJveChjaGlsZHJlbj0oRmxvYXRQcm9ncmVzcyh2YWx1ZT0wLjAsIGRlc2NyaXB0aW9uPXUnU2ltdWxhdGluZyBDaG9pY2VzJywgbWF4PTcwMjQuMCwgc3R5bGU9UHJvZ3Jlc3NTdHlsZShkZXPigKY=\n"
      ]
     },
     "metadata": {},
     "output_type": "display_data"
    },
    {
     "name": "stdout",
     "output_type": "stream",
     "text": [
      "\n"
     ]
    }
   ],
   "source": [
    "# Predict the model probabilities\n",
    "simulated_probs =\\\n",
    "    mnl.predict(df, param_list=[simulated_coefs.T, None, None, None])\n",
    "\n",
    "# Simulate y from the sampling distribution\n",
    "likelihood_sim_y =\\\n",
    "    viz.simulate_choice_vector(simulated_probs,\n",
    "                               df[model_col_dict['obs_id_col']].values,\n",
    "                               rseed=1122018)"
   ]
  },
  {
   "cell_type": "markdown",
   "metadata": {},
   "source": [
    "# Make the seven desired plots"
   ]
  },
  {
   "cell_type": "code",
   "execution_count": null,
   "metadata": {},
   "outputs": [],
   "source": [
    "import seaborn as sbn\n",
    "import matplotlib.pyplot as plt\n",
    "from imp import reload"
   ]
  },
  {
   "cell_type": "markdown",
   "metadata": {},
   "source": [
    "### 1. Predictive Performance (log-likelihood) plot"
   ]
  },
  {
   "cell_type": "code",
   "execution_count": null,
   "metadata": {},
   "outputs": [],
   "source": [
    "reload(viz)\n",
    "\n",
    "sim_log_likes =\\\n",
    "    viz.compute_prior_predictive_log_likelihoods(likelihood_sim_y,\n",
    "                                                 df,\n",
    "                                                 model_col_dict['choice_col'],\n",
    "                                                 mnl)\n",
    "\n",
    "current_log_likelihood =\\\n",
    "    np.log(long_fitted_probs).dot(mnl.choices)\n",
    "\n",
    "viz.plot_predicted_log_likelihoods(sim_log_likes,\n",
    "                                   current_log_likelihood,\n",
    "                                   figsize=(10, 6))\n",
    "\n",
    "# Look at the predictive performance plots by alternative\n",
    "for alt in [1, 2]:\n",
    "    current_rows = (df['alternative_id'] == alt).values\n",
    "    filter_idx = np.where(current_rows)[0]\n",
    "\n",
    "    current_long_probs = long_fitted_probs[filter_idx]\n",
    "    current_long_probs_log = np.log(current_long_probs)\n",
    "\n",
    "    current_y = mnl.choices[filter_idx]\n",
    "    current_sim_y = likelihood_sim_y[filter_idx, :]\n",
    "\n",
    "    current_log_likelihood = current_y.dot(current_long_probs_log)\n",
    "    current_sim_log_likes = current_sim_y.T.dot(current_long_probs_log)\n",
    "\n",
    "    current_x_label = 'Log-Likelihoods for Alternative {}'.format(alt)\n",
    "    viz.plot_predicted_log_likelihoods(current_sim_log_likes,\n",
    "                                       current_log_likelihood,\n",
    "                                       x_label=current_x_label,\n",
    "                                       figsize=(10, 6))"
   ]
  },
  {
   "cell_type": "markdown",
   "metadata": {},
   "source": [
    "### 2. Market Share Boxplot"
   ]
  },
  {
   "cell_type": "code",
   "execution_count": null,
   "metadata": {},
   "outputs": [],
   "source": [
    "reload(viz)\n",
    "\n",
    "airline_text_dict =\\\n",
    "    {1: 'american',\n",
    "     2: 'continental',\n",
    "     3: 'delta',\n",
    "     4: 'jet_blue',\n",
    "     5: 'southwest',\n",
    "     6: 'united',\n",
    "     7: 'us_airways',\n",
    "     8: 'other'}\n",
    "\n",
    "viz.plot_simulated_market_shares(df.airline.values,\n",
    "                                 likelihood_sim_y,\n",
    "                                 mnl.choices,\n",
    "                                 x_label='Airline',\n",
    "                                 y_label='Number\\nof times\\nchosen',\n",
    "                                 display_dict=airline_text_dict)"
   ]
  },
  {
   "cell_type": "code",
   "execution_count": null,
   "metadata": {},
   "outputs": [],
   "source": [
    "reload(viz)"
   ]
  },
  {
   "cell_type": "code",
   "execution_count": null,
   "metadata": {},
   "outputs": [],
   "source": [
    "aircraft_type_dict =\\\n",
    "    {1: 'widebody', 2: 'standard', 3: 'regional', 4: 'propeller'}\n",
    "viz.plot_simulated_market_shares(df.aircraft_type.values,\n",
    "                                 likelihood_sim_y,\n",
    "                                 mnl.choices,\n",
    "                                 x_label='Aircraft Type',\n",
    "                                 y_label='Number\\nof times\\nchosen',\n",
    "                                 display_dict=aircraft_type_dict)"
   ]
  },
  {
   "cell_type": "markdown",
   "metadata": {},
   "source": [
    "### 3. Binned Reliability Plot"
   ]
  },
  {
   "cell_type": "code",
   "execution_count": null,
   "metadata": {},
   "outputs": [],
   "source": [
    "reload(viz)\n",
    "current_airline = 4  # jet_blue\n",
    "current_airline_text = airline_text_dict[current_airline]\n",
    "filter_idx = np.where((df.airline == current_airline).values)[0]\n",
    "\n",
    "# current_probs = simulated_probs[filter_idx, :]\n",
    "current_probs = long_fitted_probs[filter_idx]\n",
    "current_choices = mnl.choices[filter_idx]\n",
    "current_sim_y = likelihood_sim_y[filter_idx, :]\n",
    "\n",
    "current_line_label = 'Observed vs Predicted ({})'.format(current_airline_text)\n",
    "current_sim_label = 'Simulated vs Predicted ({})'.format(current_airline_text)\n",
    "\n",
    "current_sim_color = '#a6bddb'\n",
    "current_obs_color = '#045a8d'\n",
    "\n",
    "viz.plot_binned_reliability(\n",
    "    current_probs,\n",
    "    current_choices,\n",
    "    partitions=70,\n",
    "    sim_y=current_sim_y,\n",
    "    line_label=current_line_label,\n",
    "    line_color=current_obs_color,\n",
    "    sim_label=current_sim_label,\n",
    "    sim_line_color=current_sim_color,\n",
    "    figsize=(10, 6),\n",
    "    ref_line=True)"
   ]
  },
  {
   "cell_type": "markdown",
   "metadata": {},
   "source": [
    "###  4. Binned Marginal Model Plot"
   ]
  },
  {
   "cell_type": "code",
   "execution_count": null,
   "metadata": {},
   "outputs": [],
   "source": [
    "current_airline = 1  # american_airlines\n",
    "current_airline_text = airline_text_dict[current_airline]\n",
    "selection_idx = (df.airline == current_airline).values\n",
    "\n",
    "num_traces = 200\n",
    "current_probs = simulated_probs[selection_idx]\n",
    "current_y = mnl.choices[selection_idx]\n",
    "current_x = df.loc[selection_idx, 'performance'].values\n",
    "current_sim_y = likelihood_sim_y[selection_idx]\n",
    "\n",
    "current_y_label = 'Observed P(Y={})'.format(current_airline_text)\n",
    "current_prob_label = 'Predicted P(Y={})'.format(current_airline_text)\n",
    "current_sim_label = 'Simulated P(Y={})'.format(current_airline_text)\n",
    "current_x_label =\\\n",
    "    'Binned, Mean {} Performance'.format(current_airline_text)\n",
    "\n",
    "viz.make_binned_marginal_model_plot(current_probs,\n",
    "                                    current_y,\n",
    "                                    current_x,\n",
    "                                    partitions=70,\n",
    "                                    sim_y=current_sim_y,\n",
    "                                    y_label=current_y_label,\n",
    "                                    prob_label=current_prob_label,\n",
    "                                    sim_label=current_sim_label,\n",
    "                                    x_label=current_x_label,\n",
    "                                    alpha=0.5,\n",
    "                                    figsize=(10, 6))"
   ]
  },
  {
   "cell_type": "markdown",
   "metadata": {},
   "source": [
    "### 5. Simulated Histogram"
   ]
  },
  {
   "cell_type": "code",
   "execution_count": null,
   "metadata": {},
   "outputs": [],
   "source": [
    "reload(viz)\n",
    "\n",
    "current_airline = 6  # united\n",
    "current_airline_text = airline_text_dict[current_airline]\n",
    "\n",
    "current_class = 2\n",
    "class_value_to_text_dict =\\\n",
    "    {1: 'economy',\n",
    "     2: 'premium',\n",
    "     3: 'business',\n",
    "     4: 'first_class'}\n",
    "current_class_text = class_value_to_text_dict[current_class]\n",
    "\n",
    "filter_row = ((df.airline == current_airline) &\n",
    "              (df.classTicket == current_class))\n",
    "\n",
    "current_title =\\\n",
    "    'Num Observations Flying {airline} in {class_val}'.format(\n",
    "        airline=current_airline_text,\n",
    "        class_val=class_value_to_text_dict[current_class])\n",
    "\n",
    "viz.plot_categorical_predictive_densities(\n",
    "    df,\n",
    "    None,\n",
    "    likelihood_sim_y,\n",
    "    'classTicket',\n",
    "    filter_row,\n",
    "    mnl.choices,\n",
    "    title=current_title,\n",
    "    filter_name='observations',\n",
    "    post_color=sbn.color_palette('colorblind')[0],\n",
    "    figsize=(10, 6),\n",
    "    legend_loc='upper left')"
   ]
  },
  {
   "cell_type": "markdown",
   "metadata": {},
   "source": [
    "### 6. Simulated KDE"
   ]
  },
  {
   "cell_type": "code",
   "execution_count": null,
   "metadata": {},
   "outputs": [],
   "source": [
    "reload(viz)\n",
    "current_airline = 3  # delta\n",
    "current_airline_text = airline_text_dict[current_airline]\n",
    "\n",
    "filter_row = df.airline == current_airline\n",
    "\n",
    "current_title = 'KDE of Fare for {}'.format(current_airline_text)\n",
    "\n",
    "viz.plot_simulated_kde_traces(likelihood_sim_y,\n",
    "                              df,\n",
    "                              filter_row,\n",
    "                              'fare',\n",
    "                              'choice',\n",
    "                              title=current_title,\n",
    "                              figsize=(10, 6),\n",
    "                              label='Simulated',\n",
    "                              n_traces=500)"
   ]
  },
  {
   "cell_type": "markdown",
   "metadata": {},
   "source": [
    "### 7. Simulated CDF"
   ]
  },
  {
   "cell_type": "code",
   "execution_count": null,
   "metadata": {},
   "outputs": [],
   "source": [
    "reload(viz)\n",
    "current_airline = 5  # southwest\n",
    "current_airline_text = airline_text_dict[current_airline]\n",
    "\n",
    "filter_row = df.airline == current_airline\n",
    "\n",
    "current_title =\\\n",
    "    'CDF of Arrival Time for chosen {} flights'.format(current_airline_text)\n",
    "\n",
    "viz.plot_simulated_cdf_traces(likelihood_sim_y,\n",
    "                              df,\n",
    "                              filter_row,\n",
    "                              'arrival_time',\n",
    "                              'choice',\n",
    "                              label='Simulated',\n",
    "                              title=current_title,\n",
    "                              figsize=(10, 6))"
   ]
  }
 ],
 "metadata": {
  "jupytext": {
   "formats": "ipynb,py"
  },
  "kernelspec": {
   "display_name": "Python 2",
   "language": "python",
   "name": "python2"
  },
  "language_info": {
   "codemirror_mode": {
    "name": "ipython",
    "version": 2
   },
   "file_extension": ".py",
   "mimetype": "text/x-python",
   "name": "python",
   "nbconvert_exporter": "python",
   "pygments_lexer": "ipython2",
   "version": "2.7.17"
  }
 },
 "nbformat": 4,
 "nbformat_minor": 1
}
