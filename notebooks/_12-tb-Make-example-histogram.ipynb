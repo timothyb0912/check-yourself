{
 "cells": [
  {
   "cell_type": "code",
   "execution_count": 1,
   "metadata": {},
   "outputs": [
    {
     "name": "stderr",
     "output_type": "stream",
     "text": [
      "/Users/timothyb0912/anaconda/lib/python2.7/site-packages/IPython/html.py:14: ShimWarning: The `IPython.html` package has been deprecated. You should import from `notebook` instead. `IPython.html.widgets` has moved to `ipywidgets`.\n",
      "  \"`IPython.html.widgets` has moved to `ipywidgets`.\", ShimWarning)\n"
     ]
    }
   ],
   "source": [
    "import sys\n",
    "\n",
    "import scipy.stats\n",
    "import numpy as np\n",
    "import seaborn as sbn\n",
    "import matplotlib.pyplot as plt\n",
    "\n",
    "sys.path.insert(0, '../src')\n",
    "from visualization import predictive_viz as viz\n",
    "\n",
    "%matplotlib inline"
   ]
  },
  {
   "cell_type": "code",
   "execution_count": 2,
   "metadata": {},
   "outputs": [
    {
     "name": "stderr",
     "output_type": "stream",
     "text": [
      "/Users/timothyb0912/anaconda/lib/python2.7/site-packages/matplotlib/figure.py:402: UserWarning: matplotlib is currently using a non-GUI backend, so cannot show the figure\n",
      "  \"matplotlib is currently using a non-GUI backend, \"\n"
     ]
    },
    {
     "data": {
      "image/png": "[encoded data removed]",
      "text/plain": [
       "<matplotlib.figure.Figure at 0x10e832b10>"
      ]
     },
     "metadata": {},
     "output_type": "display_data"
    }
   ],
   "source": [
    "# Generate distributions for the plot\n",
    "normal_1 = scipy.stats.norm(loc=100, scale=20)\n",
    "normal_2 = scipy.stats.norm(loc=300, scale=20)\n",
    "\n",
    "# Set a random seed for reproductibility\n",
    "np.random.seed(281)\n",
    "\n",
    "# Generate data for the example histogram\n",
    "example_data = np.empty((400,))\n",
    "example_data[:200] = normal_1.rvs(size=(200,))\n",
    "example_data[200:] = normal_2.rvs(size=(200,))\n",
    "\n",
    "# Create an example observed value\n",
    "obs_value = 200\n",
    "\n",
    "# Choose a color for the histogram bins\n",
    "bin_color = sbn.color_palette('colorblind')[0]\n",
    "\n",
    "# Create a figure and axis for the plot\n",
    "fig, ax = plt.subplots(1, figsize=(10, 6))\n",
    "\n",
    "# Create a label for the bins\n",
    "post_p_msg = '\\nP(Posterior Samples ' + r'$\\leq$ actual) = {:.0%}'\n",
    "post_p_val = (example_data < obs_value).mean()\n",
    "bin_label = ('Example Simulations' +\n",
    "             post_p_msg.format(post_p_val))\n",
    "\n",
    "# Plot the histogram\n",
    "viz._plot_predictive_counts(example_data, bin_color, bin_label, ax)\n",
    "\n",
    "# Plot an example observed value\n",
    "min_y, max_y = ax.get_ylim()\n",
    "line_label = ('Observed = {:,.0f}')\n",
    "ax.vlines(obs_value,\n",
    "          min_y,\n",
    "          0.85 * max_y,\n",
    "          linestyle='dashed',\n",
    "          label=line_label.format(obs_value))\n",
    "\n",
    "# Label the figure\n",
    "ax.set_xlabel('Test Statistic')\n",
    "ax.set_ylabel('Count')\n",
    "\n",
    "# Create a legend\n",
    "ax.legend(loc='best')\n",
    "\n",
    "# Save the figure\n",
    "for ext in ['.pdf', '.jpeg']:\n",
    "    fname = '../reports/figures/example-histogram{}'\n",
    "    fig.savefig(fname.format(ext), dpi=500, bbox_inches='tight')\n",
    "\n",
    "# Show the figure\n",
    "fig.show()"
   ]
  }
 ],
 "metadata": {
  "jupytext": {
   "formats": "ipynb,py:light"
  },
  "kernelspec": {
   "display_name": "Python 3",
   "language": "python",
   "name": "python3"
  },
  "language_info": {
   "codemirror_mode": {
    "name": "ipython",
    "version": 3
   },
   "file_extension": ".py",
   "mimetype": "text/x-python",
   "name": "python",
   "nbconvert_exporter": "python",
   "pygments_lexer": "ipython3",
   "version": "3.7.6"
  }
 },
 "nbformat": 4,
 "nbformat_minor": 1
}
