{
 "cells": [
  {
   "cell_type": "markdown",
   "metadata": {},
   "source": [
    "# Purpose\n",
    "The purpose is to calculate the log-normal mixed logit probabilities."
   ]
  },
  {
   "cell_type": "markdown",
   "metadata": {},
   "source": [
    "# Load needed libraries"
   ]
  },
  {
   "cell_type": "code",
   "execution_count": 1,
   "metadata": {},
   "outputs": [
    {
     "name": "stderr",
     "output_type": "stream",
     "text": [
      "/Users/timothyb0912/anaconda/lib/python2.7/site-packages/IPython/html.py:14: ShimWarning: The `IPython.html` package has been deprecated. You should import from `notebook` instead. `IPython.html.widgets` has moved to `ipywidgets`.\n",
      "  \"`IPython.html.widgets` has moved to `ipywidgets`.\", ShimWarning)\n"
     ]
    }
   ],
   "source": [
    "import sys\n",
    "from copy import deepcopy\n",
    "from collections import OrderedDict\n",
    "from collections import defaultdict\n",
    "\n",
    "import scipy.stats\n",
    "import pandas as pd\n",
    "import numpy as np\n",
    "\n",
    "from tqdm import tqdm\n",
    "\n",
    "import pylogit as pl\n",
    "import pylogit.mixed_logit_calcs as mlc\n",
    "from pylogit.choice_tools import get_original_order_unique_ids\n",
    "\n",
    "sys.path.insert(0, '../src/')\n",
    "from visualization import predictive_viz as viz\n",
    "\n",
    "%matplotlib inline"
   ]
  },
  {
   "cell_type": "markdown",
   "metadata": {},
   "source": [
    "# Load needed data"
   ]
  },
  {
   "cell_type": "code",
   "execution_count": 2,
   "metadata": {},
   "outputs": [],
   "source": [
    "car_df = pd.read_csv(\"../data/processed/model_ready_car_data.csv\")\n",
    "forecast_df = pd.read_csv(\"../data/processed/forecast_car_data.csv\")"
   ]
  },
  {
   "cell_type": "markdown",
   "metadata": {},
   "source": [
    "# Create specification dictionaries"
   ]
  },
  {
   "cell_type": "code",
   "execution_count": 3,
   "metadata": {
    "collapsed": true
   },
   "outputs": [],
   "source": [
    "mnl_spec, mnl_names = OrderedDict(), OrderedDict()\n",
    "\n",
    "orig_cols_and_display_names =\\\n",
    "    [(\"neg_price_over_log_income\", 'Neg Price over log(income)'),\n",
    "     ('range_over_100', 'Range (units: 100mi)'),\n",
    "     (\"neg_acceleration_over_10\", 'Neg Acceleration (units: 0.1sec)'),\n",
    "     ('top_speed_over_100', 'Neg Top speed (units: 0.01mph)'),\n",
    "     (\"neg_pollution\", 'Neg Pollution'),\n",
    "     ('vehicle_size_over_10', 'Size'),\n",
    "     ('big_enough', 'Big enough'),\n",
    "     ('luggage_space', 'Luggage space'),\n",
    "     (\"neg_tens_of_cents_per_mile\", 'Neg Operation cost'),\n",
    "     ('station_availability', 'Station availability'),\n",
    "     ('sports_utility_vehicle', 'Sports utility vehicle'),\n",
    "     ('sports_car', 'Sports car'),\n",
    "     ('station_wagon', 'Station wagon'),\n",
    "     ('truck', 'Truck'),\n",
    "     ('van', 'Van'),\n",
    "     ('electric', 'EV'),\n",
    "     ('electric_commute_lte_5mi', 'Commute < 5 & EV'),\n",
    "     ('electric_and_college', 'College & EV'),\n",
    "     ('compressed_natural_gas', 'CNG'),\n",
    "     ('methanol', 'Methanol'),\n",
    "     ('methanol_and_college', 'College & Methanol'),\n",
    "     ('non_ev', 'Non Electric-Vehicle'),\n",
    "     ('non_cng', 'Non Compressed Natural Gas')]\n",
    "    \n",
    "for col, display_name in orig_cols_and_display_names:\n",
    "    mnl_spec[col] = 'all_same'\n",
    "    mnl_names[col] = display_name"
   ]
  },
  {
   "cell_type": "code",
   "execution_count": 4,
   "metadata": {},
   "outputs": [
    {
     "name": "stdout",
     "output_type": "stream",
     "text": [
      "Log-likelihood at zero: -8,338.8486\n",
      "Initial Log-likelihood: -8,338.8486\n"
     ]
    },
    {
     "name": "stderr",
     "output_type": "stream",
     "text": [
      "/Users/timothyb0912/anaconda/lib/python2.7/site-packages/scipy/optimize/_minimize.py:507: RuntimeWarning: Method BFGS does not use Hessian information (hess).\n",
      "  RuntimeWarning)\n"
     ]
    },
    {
     "name": "stdout",
     "output_type": "stream",
     "text": [
      "Estimation Time for Point Estimation: 0.33 seconds.\n",
      "Final log-likelihood: -7,391.8300\n"
     ]
    },
    {
     "name": "stderr",
     "output_type": "stream",
     "text": [
      "/Users/timothyb0912/anaconda/lib/python2.7/site-packages/pylogit/base_multinomial_cm_v2.py:1228: RuntimeWarning: invalid value encountered in sqrt\n",
      "  self._store_inferential_results(np.sqrt(np.diag(self.cov)),\n",
      "/Users/timothyb0912/anaconda/lib/python2.7/site-packages/scipy/stats/_distn_infrastructure.py:879: RuntimeWarning: invalid value encountered in greater\n",
      "  return (self.a < x) & (x < self.b)\n",
      "/Users/timothyb0912/anaconda/lib/python2.7/site-packages/scipy/stats/_distn_infrastructure.py:879: RuntimeWarning: invalid value encountered in less\n",
      "  return (self.a < x) & (x < self.b)\n",
      "/Users/timothyb0912/anaconda/lib/python2.7/site-packages/scipy/stats/_distn_infrastructure.py:1821: RuntimeWarning: invalid value encountered in less_equal\n",
      "  cond2 = cond0 & (x <= self.a)\n",
      "/Users/timothyb0912/anaconda/lib/python2.7/site-packages/pylogit/base_multinomial_cm_v2.py:1259: RuntimeWarning: invalid value encountered in sqrt\n",
      "  self._store_inferential_results(np.sqrt(np.diag(self.robust_cov)),\n"
     ]
    },
    {
     "data": {
      "text/html": [
       "<table class=\"simpletable\">\n",
       "<caption>Multinomial Logit Model Regression Results</caption>\n",
       "<tr>\n",
       "  <th>Dep. Variable:</th>         <td>choice</td>          <th>  No. Observations:  </th>    <td>4,654</td>  \n",
       "</tr>\n",
       "<tr>\n",
       "  <th>Model:</th>         <td>Multinomial Logit Model</td> <th>  Df Residuals:      </th>    <td>4,631</td>  \n",
       "</tr>\n",
       "<tr>\n",
       "  <th>Method:</th>                  <td>MLE</td>           <th>  Df Model:          </th>     <td>23</td>    \n",
       "</tr>\n",
       "<tr>\n",
       "  <th>Date:</th>             <td>Sun, 10 Jun 2018</td>     <th>  Pseudo R-squ.:     </th>    <td>0.114</td>  \n",
       "</tr>\n",
       "<tr>\n",
       "  <th>Time:</th>                 <td>17:03:06</td>         <th>  Pseudo R-bar-squ.: </th>    <td>0.111</td>  \n",
       "</tr>\n",
       "<tr>\n",
       "  <th>AIC:</th>                 <td>14,829.660</td>        <th>  Log-Likelihood:    </th> <td>-7,391.830</td>\n",
       "</tr>\n",
       "<tr>\n",
       "  <th>BIC:</th>                 <td>14,977.906</td>        <th>  LL-Null:           </th> <td>-8,338.849</td>\n",
       "</tr>\n",
       "</table>\n",
       "<table class=\"simpletable\">\n",
       "<tr>\n",
       "                  <td></td>                    <th>coef</th>     <th>std err</th>      <th>z</th>      <th>P>|z|</th>  <th>[0.025</th>    <th>0.975]</th>  \n",
       "</tr>\n",
       "<tr>\n",
       "  <th>Neg Price over log(income)</th>       <td>    0.1854</td> <td>    0.027</td> <td>    6.796</td> <td> 0.000</td> <td>    0.132</td> <td>    0.239</td>\n",
       "</tr>\n",
       "<tr>\n",
       "  <th>Range (units: 100mi)</th>             <td>    0.3501</td> <td>    0.027</td> <td>   13.052</td> <td> 0.000</td> <td>    0.298</td> <td>    0.403</td>\n",
       "</tr>\n",
       "<tr>\n",
       "  <th>Neg Acceleration (units: 0.1sec)</th> <td>    0.7160</td> <td>    0.111</td> <td>    6.472</td> <td> 0.000</td> <td>    0.499</td> <td>    0.933</td>\n",
       "</tr>\n",
       "<tr>\n",
       "  <th>Neg Top speed (units: 0.01mph)</th>   <td>    0.2612</td> <td>    0.081</td> <td>    3.228</td> <td> 0.001</td> <td>    0.103</td> <td>    0.420</td>\n",
       "</tr>\n",
       "<tr>\n",
       "  <th>Neg Pollution</th>                    <td>    0.4441</td> <td>    0.102</td> <td>    4.367</td> <td> 0.000</td> <td>    0.245</td> <td>    0.643</td>\n",
       "</tr>\n",
       "<tr>\n",
       "  <th>Size</th>                             <td>    0.9345</td> <td>    0.316</td> <td>    2.953</td> <td> 0.003</td> <td>    0.314</td> <td>    1.555</td>\n",
       "</tr>\n",
       "<tr>\n",
       "  <th>Big enough</th>                       <td>    0.1432</td> <td>    0.077</td> <td>    1.853</td> <td> 0.064</td> <td>   -0.008</td> <td>    0.295</td>\n",
       "</tr>\n",
       "<tr>\n",
       "  <th>Luggage space</th>                    <td>    0.5009</td> <td>    0.191</td> <td>    2.623</td> <td> 0.009</td> <td>    0.127</td> <td>    0.875</td>\n",
       "</tr>\n",
       "<tr>\n",
       "  <th>Neg Operation cost</th>               <td>    0.7679</td> <td>    0.076</td> <td>   10.131</td> <td> 0.000</td> <td>    0.619</td> <td>    0.916</td>\n",
       "</tr>\n",
       "<tr>\n",
       "  <th>Station availability</th>             <td>    0.4133</td> <td>    0.096</td> <td>    4.294</td> <td> 0.000</td> <td>    0.225</td> <td>    0.602</td>\n",
       "</tr>\n",
       "<tr>\n",
       "  <th>Sports utility vehicle</th>           <td>    0.8201</td> <td>    0.141</td> <td>    5.830</td> <td> 0.000</td> <td>    0.544</td> <td>    1.096</td>\n",
       "</tr>\n",
       "<tr>\n",
       "  <th>Sports car</th>                       <td>    0.6370</td> <td>    0.148</td> <td>    4.298</td> <td> 0.000</td> <td>    0.347</td> <td>    0.928</td>\n",
       "</tr>\n",
       "<tr>\n",
       "  <th>Station wagon</th>                    <td>   -1.4367</td> <td>    0.062</td> <td>  -23.139</td> <td> 0.000</td> <td>   -1.558</td> <td>   -1.315</td>\n",
       "</tr>\n",
       "<tr>\n",
       "  <th>Truck</th>                            <td>   -1.0168</td> <td>    0.049</td> <td>  -20.753</td> <td> 0.000</td> <td>   -1.113</td> <td>   -0.921</td>\n",
       "</tr>\n",
       "<tr>\n",
       "  <th>Van</th>                              <td>   -0.7989</td> <td>    0.047</td> <td>  -16.864</td> <td> 0.000</td> <td>   -0.892</td> <td>   -0.706</td>\n",
       "</tr>\n",
       "<tr>\n",
       "  <th>EV</th>                               <td>   -0.1786</td> <td>      nan</td> <td>      nan</td> <td>   nan</td> <td>      nan</td> <td>      nan</td>\n",
       "</tr>\n",
       "<tr>\n",
       "  <th>Commute < 5 & EV</th>                 <td>    0.1983</td> <td>    0.084</td> <td>    2.374</td> <td> 0.018</td> <td>    0.035</td> <td>    0.362</td>\n",
       "</tr>\n",
       "<tr>\n",
       "  <th>College & EV</th>                     <td>    0.4426</td> <td>    0.109</td> <td>    4.058</td> <td> 0.000</td> <td>    0.229</td> <td>    0.656</td>\n",
       "</tr>\n",
       "<tr>\n",
       "  <th>CNG</th>                              <td>    0.3450</td> <td>    0.372</td> <td>    0.928</td> <td> 0.353</td> <td>   -0.384</td> <td>    1.074</td>\n",
       "</tr>\n",
       "<tr>\n",
       "  <th>Methanol</th>                         <td>    0.3134</td> <td>    0.103</td> <td>    3.051</td> <td> 0.002</td> <td>    0.112</td> <td>    0.515</td>\n",
       "</tr>\n",
       "<tr>\n",
       "  <th>College & Methanol</th>               <td>    0.2284</td> <td>    0.089</td> <td>    2.576</td> <td> 0.010</td> <td>    0.055</td> <td>    0.402</td>\n",
       "</tr>\n",
       "<tr>\n",
       "  <th>Non Electric-Vehicle</th>             <td>         0</td> <td>      nan</td> <td>      nan</td> <td>   nan</td> <td>      nan</td> <td>      nan</td>\n",
       "</tr>\n",
       "<tr>\n",
       "  <th>Non Compressed Natural Gas</th>       <td>         0</td> <td>      nan</td> <td>      nan</td> <td>   nan</td> <td>      nan</td> <td>      nan</td>\n",
       "</tr>\n",
       "</table>"
      ],
      "text/plain": [
       "<class 'statsmodels.iolib.summary.Summary'>\n",
       "\"\"\"\n",
       "                     Multinomial Logit Model Regression Results                    \n",
       "===================================================================================\n",
       "Dep. Variable:                      choice   No. Observations:                4,654\n",
       "Model:             Multinomial Logit Model   Df Residuals:                    4,631\n",
       "Method:                                MLE   Df Model:                           23\n",
       "Date:                     Sun, 10 Jun 2018   Pseudo R-squ.:                   0.114\n",
       "Time:                             17:03:06   Pseudo R-bar-squ.:               0.111\n",
       "AIC:                            14,829.660   Log-Likelihood:             -7,391.830\n",
       "BIC:                            14,977.906   LL-Null:                    -8,338.849\n",
       "====================================================================================================\n",
       "                                       coef    std err          z      P>|z|      [0.025      0.975]\n",
       "----------------------------------------------------------------------------------------------------\n",
       "Neg Price over log(income)           0.1854      0.027      6.796      0.000       0.132       0.239\n",
       "Range (units: 100mi)                 0.3501      0.027     13.052      0.000       0.298       0.403\n",
       "Neg Acceleration (units: 0.1sec)     0.7160      0.111      6.472      0.000       0.499       0.933\n",
       "Neg Top speed (units: 0.01mph)       0.2612      0.081      3.228      0.001       0.103       0.420\n",
       "Neg Pollution                        0.4441      0.102      4.367      0.000       0.245       0.643\n",
       "Size                                 0.9345      0.316      2.953      0.003       0.314       1.555\n",
       "Big enough                           0.1432      0.077      1.853      0.064      -0.008       0.295\n",
       "Luggage space                        0.5009      0.191      2.623      0.009       0.127       0.875\n",
       "Neg Operation cost                   0.7679      0.076     10.131      0.000       0.619       0.916\n",
       "Station availability                 0.4133      0.096      4.294      0.000       0.225       0.602\n",
       "Sports utility vehicle               0.8201      0.141      5.830      0.000       0.544       1.096\n",
       "Sports car                           0.6370      0.148      4.298      0.000       0.347       0.928\n",
       "Station wagon                       -1.4367      0.062    -23.139      0.000      -1.558      -1.315\n",
       "Truck                               -1.0168      0.049    -20.753      0.000      -1.113      -0.921\n",
       "Van                                 -0.7989      0.047    -16.864      0.000      -0.892      -0.706\n",
       "EV                                  -0.1786        nan        nan        nan         nan         nan\n",
       "Commute < 5 & EV                     0.1983      0.084      2.374      0.018       0.035       0.362\n",
       "College & EV                         0.4426      0.109      4.058      0.000       0.229       0.656\n",
       "CNG                                  0.3450      0.372      0.928      0.353      -0.384       1.074\n",
       "Methanol                             0.3134      0.103      3.051      0.002       0.112       0.515\n",
       "College & Methanol                   0.2284      0.089      2.576      0.010       0.055       0.402\n",
       "Non Electric-Vehicle                      0        nan        nan        nan         nan         nan\n",
       "Non Compressed Natural Gas                0        nan        nan        nan         nan         nan\n",
       "====================================================================================================\n",
       "\"\"\""
      ]
     },
     "execution_count": 4,
     "metadata": {},
     "output_type": "execute_result"
    }
   ],
   "source": [
    "# Approach 1: Use a for loop.\n",
    "# Estimate an mnl with the same basic specification as the MIXL.\n",
    "mnl_model =\\\n",
    "    pl.create_choice_model(data=car_df,\n",
    "                           alt_id_col='alt_id',\n",
    "                           obs_id_col='obs_id',\n",
    "                           choice_col='choice',\n",
    "                           specification=mnl_spec,\n",
    "                           model_type='MNL',\n",
    "                           names=mnl_names)\n",
    "    \n",
    "mnl_model.fit_mle(np.zeros(len(mnl_names)),\n",
    "                  constrained_pos=[-2, -1])\n",
    "\n",
    "# Look at the estimation results\n",
    "mnl_model.get_statsmodels_summary()\n"
   ]
  },
  {
   "cell_type": "code",
   "execution_count": 5,
   "metadata": {},
   "outputs": [
    {
     "data": {
      "text/plain": [
       "(-0.8776397110835102, -1.5983748481622846)"
      ]
     },
     "execution_count": 5,
     "metadata": {},
     "output_type": "execute_result"
    }
   ],
   "source": [
    "# Convert the 'estimate' column of Table 2 in\n",
    "# Brownstone & Train (1998) into their equivalent\n",
    "# 'mu' values for the log-normal distributions\n",
    "get_ln_Loc = lambda x: np.log(x) - (0.8326**2) * 0.5\n",
    "\n",
    "get_ln_Loc(0.588), get_ln_Loc(0.286)"
   ]
  },
  {
   "cell_type": "markdown",
   "metadata": {},
   "source": [
    "From the cell above, we can see that the 2nd column in Table 2 of Brownstone & Train (1998) has been entered incorrectly. The value for Price / ln(income) should be -1.598 instead of -5.999."
   ]
  },
  {
   "cell_type": "code",
   "execution_count": 6,
   "metadata": {},
   "outputs": [
    {
     "name": "stdout",
     "output_type": "stream",
     "text": [
      "Automatic pdb calling has been turned ON\n"
     ]
    },
    {
     "name": "stderr",
     "output_type": "stream",
     "text": [
      "Observations: 100%|██████████| 4654/4654 [00:31<00:00, 148.37it/s]\n"
     ]
    }
   ],
   "source": [
    "%pdb on\n",
    "# Determine the variables being mixed\n",
    "mixing_vars = ['neg_price_over_log_income',\n",
    "               'neg_acceleration_over_10',\n",
    "               'neg_pollution',\n",
    "               'neg_tens_of_cents_per_mile',\n",
    "               'range_over_100',\n",
    "               'top_speed_over_100',\n",
    "               'big_enough',\n",
    "               'station_availability',\n",
    "               'vehicle_size_over_10',\n",
    "               'luggage_space',\n",
    "               'non_ev',\n",
    "               'non_cng']\n",
    "\n",
    "# Determine the log-normal mixing variables\n",
    "lognormal_vars = mixing_vars[:-4]\n",
    "normal_vars = mixing_vars[4:]\n",
    "\n",
    "# Store the model parameters from Brownstone and Train (1998)\n",
    "param_values = np.array([-1.5983748481622846, #-5.999,\n",
    "                         -0.877,\n",
    "                         -0.302,\n",
    "                         -1.364,\n",
    "                         -0.711,\n",
    "                          1.541,\n",
    "                         -1.748,\n",
    "                          1.563,\n",
    "                         -0.071,\n",
    "                         -0.741,\n",
    "                          0.897,\n",
    "                          0.698,\n",
    "                         -1.508,\n",
    "                         -1.094,\n",
    "                         -0.819,\n",
    "                         -0.905,\n",
    "                          0.359,\n",
    "                          0.770,\n",
    "                          0.621,\n",
    "                          0.476,\n",
    "                          0.335,\n",
    "                          0,\n",
    "                          0])\n",
    "\n",
    "# Initialize the array of standard deviation values\n",
    "std_values = np.zeros(param_values.size)\n",
    "\n",
    "# Store Brownstone & Train's standard dev values for\n",
    "# the values with normal mixing distributions\n",
    "std_dict = {'non_ev': 2.289,\n",
    "            'non_cng': 0.971,\n",
    "            'vehicle_size_over_10': 6.808,\n",
    "            'luggage_space': 5.380}\n",
    "\n",
    "# Extract the variable names for the systematic utilities\n",
    "variable_names = [x[0] for x in orig_cols_and_display_names]\n",
    "\n",
    "# Populate the array of standard deviation values\n",
    "for pos, variable in enumerate(variable_names):\n",
    "    # Assign the correct standard deviation value for this\n",
    "    if variable in mixing_vars:\n",
    "        if variable in std_dict:\n",
    "            std_values[pos] = std_dict[variable]\n",
    "        elif variable in lognormal_vars:\n",
    "            # Based on Brownstone & Train (1998)\n",
    "            # pg. 125, last paragraph\n",
    "            std_values[pos] = 0.8326\n",
    "            \n",
    "# Determine the number of mixing variables\n",
    "num_mixing_vars = len(mixing_vars)\n",
    "\n",
    "# Determine the number of draws being used for the mixed logit\n",
    "num_draws = 250\n",
    "# num_draws = 1000\n",
    "\n",
    "# Initialize a num_rows by num_draws matrix for probabilities\n",
    "orig_mixl_probs = np.empty((car_df.shape[0], num_draws))\n",
    "forecast_mixl_probs = np.empty((car_df.shape[0], num_draws))\n",
    "\n",
    "# Determine the number of observations with randomly distributed\n",
    "# sensitivities\n",
    "num_mixers = car_df.obs_id.unique().size\n",
    "\n",
    "# Get the random draws needed for the draws of each coeffcient\n",
    "# Each element in the list will be a 2D ndarray of shape\n",
    "# num_mixers by num_draws\n",
    "normal_rvs_list =\\\n",
    "    mlc.get_normal_draws(num_mixers,\n",
    "                         num_draws,\n",
    "                         num_mixing_vars,\n",
    "                         seed=601)\n",
    "    \n",
    "# Get the unique obs_id values, in their original order\n",
    "unique_obs_ids =\\\n",
    "    get_original_order_unique_ids(car_df.obs_id.values)\n",
    "    \n",
    "# Initialize the coefficient matrix for all observations\n",
    "coef_matrix = param_values[:, None] * np.ones(num_draws)[None, :]\n",
    "\n",
    "# Create an object to iterate over\n",
    "iterator = tqdm(unique_obs_ids, desc='Observations')\n",
    "\n",
    "# For each observation in the original obs_id order:\n",
    "for obs_row, obs_id in enumerate(iterator):\n",
    "    # Determine the long format rows for the current obs\n",
    "    row_idx = np.where(car_df.obs_id == obs_id)[0]\n",
    "\n",
    "    # Form a num_index_coefs by num_draws matrix of coefficients\n",
    "    # for this individual\n",
    "    for var_row, variable in enumerate(variable_names):\n",
    "        if variable not in mixing_vars:\n",
    "            continue\n",
    "        else:\n",
    "            # Get the position in the array of mixing vars\n",
    "            mixing_pos = mixing_vars.index(variable)\n",
    "            \n",
    "            # Get the draws for this observation and variable\n",
    "            draws = normal_rvs_list[mixing_pos][obs_row, :]\n",
    "            \n",
    "            # Form the array of coefficients\n",
    "            coefs = (param_values[var_row] + \n",
    "                     std_values[var_row] * draws)\n",
    "            if variable in lognormal_vars:\n",
    "                coefs = np.exp(np.clip(coefs,\n",
    "                                       mlc.min_exponent_val,\n",
    "                                       mlc.max_exponent_val))\n",
    "                \n",
    "            # Store the array of coefficients\n",
    "            coef_matrix[var_row, :] = coefs\n",
    "\n",
    "    # Subset the original dataframe by selecting the rows\n",
    "    # just for the current observation.\n",
    "    obs_data_orig = car_df.iloc[row_idx, :]\n",
    "    obs_data_forecast = forecast_df.iloc[row_idx, :]\n",
    "\n",
    "    # Create the param list for predictions\n",
    "    param_list = [coef_matrix, None, None, None]\n",
    "\n",
    "    # Using the original MNL model, call predict using the\n",
    "    # subsetted dataframe and the num_index_coefs by\n",
    "    # num_draws matrix of coefficients for that individual.\n",
    "    obs_sim_probs_orig =\\\n",
    "        mnl_model.predict(obs_data_orig, param_list)\n",
    "    obs_sim_probs_forecast =\\\n",
    "        mnl_model.predict(obs_data_forecast, param_list)\n",
    "\n",
    "    # Store the predictions in forecast_mixl_probs\n",
    "    orig_mixl_probs[row_idx, :] = obs_sim_probs_orig\n",
    "    forecast_mixl_probs[row_idx, :] = obs_sim_probs_forecast\n",
    "\n",
    "# Take the mean across axis 1 of the matrix of predictions.\n",
    "# These are the predicted probabilities\n",
    "final_mixl_probs_orig = orig_mixl_probs.mean(axis=1)\n",
    "final_mixl_probs_forecast = forecast_mixl_probs.mean(axis=1)\n",
    "\n",
    "# Store the Computed probabilities\n",
    "np.savetxt('../data/processed/lognormal_mixl_probs_mle.csv',\n",
    "           final_mixl_probs_orig,\n",
    "           delimiter=',')\n",
    "\n",
    "np.savetxt('../data/processed/lognormal_mixl_probs_mle_forecast.csv',\n",
    "           final_mixl_probs_forecast,\n",
    "           delimiter=',')"
   ]
  },
  {
   "cell_type": "markdown",
   "metadata": {},
   "source": [
    "# Sanity check"
   ]
  },
  {
   "cell_type": "code",
   "execution_count": 7,
   "metadata": {},
   "outputs": [
    {
     "data": {
      "text/plain": [
       "False"
      ]
     },
     "execution_count": 7,
     "metadata": {},
     "output_type": "execute_result"
    }
   ],
   "source": [
    "# Make sure none of the predicted probabilities are NaN\n",
    "np.isnan(final_mixl_probs_orig).any()"
   ]
  },
  {
   "cell_type": "code",
   "execution_count": 8,
   "metadata": {},
   "outputs": [
    {
     "data": {
      "text/plain": [
       "count    27924.000000\n",
       "mean         0.166667\n",
       "std          0.111085\n",
       "min          0.008662\n",
       "25%          0.080818\n",
       "50%          0.135765\n",
       "75%          0.228371\n",
       "max          0.646645\n",
       "dtype: float64"
      ]
     },
     "execution_count": 8,
     "metadata": {},
     "output_type": "execute_result"
    }
   ],
   "source": [
    "# Look at the distribution of predicted probabilities\n",
    "pd.Series(final_mixl_probs_orig).describe()"
   ]
  },
  {
   "cell_type": "code",
   "execution_count": 9,
   "metadata": {},
   "outputs": [
    {
     "name": "stdout",
     "output_type": "stream",
     "text": [
      "MIXL Log-Likelihood: -7370.086359\n"
     ]
    }
   ],
   "source": [
    "# Look at the log-likelihood based on Approach 1.\n",
    "# Check that it is near the log-likelihood reported in\n",
    "# Brownstone & train \n",
    "log_like = car_df.choice.dot(np.log(final_mixl_probs_orig))\n",
    "print('MIXL Log-Likelihood: {:3f}'.format(log_like))"
   ]
  },
  {
   "cell_type": "code",
   "execution_count": 10,
   "metadata": {},
   "outputs": [
    {
     "name": "stdout",
     "output_type": "stream",
     "text": [
      "0 stupid forecasts\n"
     ]
    }
   ],
   "source": [
    "# Ensure the forecast probabilities for large gas cars are\n",
    "# higher than the original probabilities for large gas cars\n",
    "large_gas_car_idx = ((car_df['body_type'] == 'regcar') &\n",
    "                     (car_df['vehicle_size'] == 3) &\n",
    "                     (car_df['fuel_type'] == 'gasoline')).values\n",
    "num_stupid_forecasts =\\\n",
    "    ((final_mixl_probs_forecast >\n",
    "      final_mixl_probs_orig)[large_gas_car_idx]).sum()\n",
    "print(\"{:,} stupid forecasts\".format(num_stupid_forecasts))"
   ]
  },
  {
   "cell_type": "code",
   "execution_count": 11,
   "metadata": {},
   "outputs": [
    {
     "data": {
      "text/plain": [
       "-0.12205116117304653"
      ]
     },
     "execution_count": 11,
     "metadata": {},
     "output_type": "execute_result"
    }
   ],
   "source": [
    "# Look at the mixed logits predicted change in the market share\n",
    "# of large gas cars after the price increase.\n",
    "(((final_mixl_probs_forecast[large_gas_car_idx]).sum() -\n",
    " (final_mixl_probs_orig[large_gas_car_idx]).sum()) /\n",
    " (final_mixl_probs_orig[large_gas_car_idx]).sum())"
   ]
  },
  {
   "cell_type": "code",
   "execution_count": 12,
   "metadata": {},
   "outputs": [
    {
     "name": "stdout",
     "output_type": "stream",
     "text": [
      "count    5000.000000\n",
      "mean       -1.005785\n",
      "std         1.940447\n",
      "min       -62.316673\n",
      "25%        -1.103588\n",
      "50%        -0.509510\n",
      "75%        -0.227775\n",
      "max        -0.008702\n",
      "dtype: float64\n"
     ]
    },
    {
     "data": {
      "text/plain": [
       "<matplotlib.axes._subplots.AxesSubplot at 0x10ea6ef50>"
      ]
     },
     "execution_count": 12,
     "metadata": {},
     "output_type": "execute_result"
    },
    {
     "data": {
      "image/png": "[encoded data removed]",
      "text/plain": [
       "<matplotlib.figure.Figure at 0x10ea30c90>"
      ]
     },
     "metadata": {},
     "output_type": "display_data"
    }
   ],
   "source": [
    "# Note the assumed standard deviation\n",
    "assumed_std = 0.8326\n",
    "\n",
    "# Look at the distribution of the ratio of the \n",
    "# relative price coefficient  to the range coefficient.\n",
    "# This will tell how 'well captured' this ratio of coefficients\n",
    "# is, and/or how much the log-normal mixed logit results\n",
    "# are to be trusted.\n",
    "\n",
    "price_dist = scipy.stats.lognorm(s=assumed_std,\n",
    "                                 scale=np.exp(-1.5983748481622846))\n",
    "\n",
    "range_dist = scipy.stats.lognorm(s=assumed_std,\n",
    "                                 scale=np.exp(-0.877))\n",
    "\n",
    "# Sample the ratio of coefficients\n",
    "num_samples = 5000\n",
    "price_samples = -1 * price_dist.rvs(size=num_samples)\n",
    "range_samples = range_dist.rvs(size=num_samples)\n",
    "ratio_samples = pd.Series(price_samples / range_samples)\n",
    "\n",
    "# Display a text representation of the distribution\n",
    "print(ratio_samples.describe())\n",
    "\n",
    "# Display a KDE of the distribution\n",
    "ratio_samples.plot(kind='kde', figsize=(10, 6))"
   ]
  }
 ],
 "metadata": {
  "jupytext": {
   "formats": "ipynb,py:light"
  },
  "kernelspec": {
   "display_name": "Python 3",
   "language": "python",
   "name": "python3"
  },
  "language_info": {
   "codemirror_mode": {
    "name": "ipython",
    "version": 3
   },
   "file_extension": ".py",
   "mimetype": "text/x-python",
   "name": "python",
   "nbconvert_exporter": "python",
   "pygments_lexer": "ipython3",
   "version": "3.7.6"
  }
 },
 "nbformat": 4,
 "nbformat_minor": 1
}
