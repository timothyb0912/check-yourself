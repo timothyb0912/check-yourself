{
 "cells": [
  {
   "cell_type": "markdown",
   "metadata": {},
   "source": [
    "The purpose of this notebook is to diagnose why I cannot straight-forwardly reproduce the MNL model used in \"Brownstone, Davide and Train, Kenneth (1999). 'Forecasting new product penetration with flexible substitution patterns'. Journal of Econometrics 89: 109-129.\" (p. 121)."
   ]
  },
  {
   "cell_type": "code",
   "execution_count": 1,
   "metadata": {},
   "outputs": [
    {
     "name": "stderr",
     "output_type": "stream",
     "text": [
      "/Users/timothyb0912/anaconda/lib/python2.7/site-packages/IPython/html.py:14: ShimWarning: The `IPython.html` package has been deprecated. You should import from `notebook` instead. `IPython.html.widgets` has moved to `ipywidgets`.\n",
      "  \"`IPython.html.widgets` has moved to `ipywidgets`.\", ShimWarning)\n"
     ]
    }
   ],
   "source": [
    "import sys\n",
    "from collections import OrderedDict\n",
    "\n",
    "import scipy.stats\n",
    "import pandas as pd\n",
    "import numpy as np\n",
    "import pylogit as pl\n",
    "\n",
    "sys.path.insert(0, '../src')\n",
    "from visualization import predictive_viz as viz\n",
    "\n",
    "%matplotlib inline"
   ]
  },
  {
   "cell_type": "code",
   "execution_count": 2,
   "metadata": {
    "collapsed": true
   },
   "outputs": [],
   "source": [
    "car_df = pd.read_csv(\"../data/interim/car_long_format.csv\")"
   ]
  },
  {
   "cell_type": "code",
   "execution_count": 3,
   "metadata": {
    "collapsed": true
   },
   "outputs": [],
   "source": [
    "# Create the 'big_enough' variable\n",
    "car_df['big_enough'] =\\\n",
    "    (car_df['hsg2'] & (car_df['vehicle_size'] == 3)).astype(int)\n",
    "\n",
    "# Determine the type of car\n",
    "car_df['sports_utility_vehicle'] =\\\n",
    "    (car_df['body_type'] == 'sportuv').astype(int)\n",
    "\n",
    "car_df['sports_car'] =\\\n",
    "    (car_df['body_type'] == 'sportcar').astype(int)\n",
    "    \n",
    "car_df['station_wagon'] =\\\n",
    "    (car_df['body_type'] == 'stwagon').astype(int)\n",
    "\n",
    "car_df['truck'] =\\\n",
    "    (car_df['body_type'] == 'truck').astype(int)\n",
    "\n",
    "car_df['van'] =\\\n",
    "    (car_df['body_type'] == 'van').astype(int)\n",
    "\n",
    "# Determine the car's fuel usage\n",
    "car_df['electric'] =\\\n",
    "    (car_df['fuel_type'] == 'electric').astype(int)\n",
    "    \n",
    "car_df['non_electric'] =\\\n",
    "    (car_df['fuel_type'] != 'electric').astype(int)\n",
    "\n",
    "car_df['compressed_natural_gas'] =\\\n",
    "    (car_df['fuel_type'] == 'cng').astype(int)\n",
    "\n",
    "car_df['methanol'] =\\\n",
    "    (car_df['fuel_type'] == 'methanol').astype(int)\n",
    "\n",
    "# Determine if this is an electric vehicle with a small commute\n",
    "car_df['electric_commute_lte_5mi'] =\\\n",
    "    (car_df['electric'] & car_df['coml5']).astype(int)\n",
    "\n",
    "# See if this is an electric vehicle for a college educated person\n",
    "car_df['electric_and_college'] =\\\n",
    "    (car_df['electric'] & car_df['college']).astype(int)\n",
    "\n",
    "# See if this is a methanol vehicle for a college educated person\n",
    "car_df['methanol_and_college'] =\\\n",
    "    (car_df['methanol'] & car_df['college']).astype(int)\n",
    "    \n",
    "car_df['methanol_commute_lte_5mi'] =\\\n",
    "    (car_df['methanol'] & car_df['coml5']).astype(int)\n",
    "    \n",
    "# Scale the range and acceleration variables\n",
    "car_df['range_over_100'] = car_df['range'] / 100.0\n",
    "car_df['acceleration_over_10'] = car_df['acceleration'] / 10.0\n",
    "car_df['top_speed_over_100'] = car_df['top_speed'] / 100.0\n",
    "car_df['vehicle_size_over_10'] = car_df['vehicle_size'] / 10.0\n",
    "car_df['tens_of_cents_per_mile'] = car_df['cents_per_mile'] / 10.0"
   ]
  },
  {
   "cell_type": "code",
   "execution_count": 4,
   "metadata": {
    "collapsed": true
   },
   "outputs": [],
   "source": [
    "car_mnl_spec, car_mnl_names = OrderedDict(), OrderedDict()\n",
    "\n",
    "cols_and_display_names =\\\n",
    "    [('price_over_log_income', 'Price over log(income)'),\n",
    "     ('range_over_100', 'Range (units: 100mi)'),\n",
    "     ('acceleration_over_10', 'Acceleration (units: 0.1sec)'),\n",
    "     ('top_speed_over_100', 'Top speed (units: 0.01mph)'),\n",
    "     ('pollution', 'Pollution'),\n",
    "     ('vehicle_size_over_10', 'Size'),\n",
    "     ('big_enough', 'Big enough'),\n",
    "     ('luggage_space', 'Luggage space'),\n",
    "     ('tens_of_cents_per_mile', 'Operation cost'),\n",
    "     ('station_availability', 'Station availability'),\n",
    "     ('sports_utility_vehicle', 'Sports utility vehicle'),\n",
    "     ('sports_car', 'Sports car'),\n",
    "     ('station_wagon', 'Station wagon'),\n",
    "     ('truck', 'Truck'),\n",
    "     ('van', 'Van'),\n",
    "     ('methanol', 'EV'),\n",
    "     ('methanol_commute_lte_5mi', 'Commute < 5 & EV'),\n",
    "     ('methanol_and_college', 'College & EV'),\n",
    "     ('compressed_natural_gas', 'CNG'),\n",
    "     ('electric', 'Methanol'),\n",
    "     ('electric_and_college', 'College & Methanol')]\n",
    "    \n",
    "for col, display_name in cols_and_display_names:\n",
    "    car_mnl_spec[col] = 'all_same'\n",
    "    car_mnl_names[col] = display_name\n"
   ]
  },
  {
   "cell_type": "code",
   "execution_count": 5,
   "metadata": {},
   "outputs": [
    {
     "name": "stdout",
     "output_type": "stream",
     "text": [
      "Log-likelihood at zero: -8,338.8486\n",
      "Initial Log-likelihood: -8,338.8486\n"
     ]
    },
    {
     "name": "stderr",
     "output_type": "stream",
     "text": [
      "/Users/timothyb0912/anaconda/lib/python2.7/site-packages/scipy/optimize/_minimize.py:385: RuntimeWarning: Method BFGS does not use Hessian information (hess).\n",
      "  RuntimeWarning)\n"
     ]
    },
    {
     "name": "stdout",
     "output_type": "stream",
     "text": [
      "Estimation Time: 0.21 seconds.\n",
      "Final log-likelihood: -7,391.8300\n"
     ]
    },
    {
     "data": {
      "text/html": [
       "<table class=\"simpletable\">\n",
       "<caption>Multinomial Logit Model Regression Results</caption>\n",
       "<tr>\n",
       "  <th>Dep. Variable:</th>         <td>choice</td>          <th>  No. Observations:  </th>    <td>4,654</td>  \n",
       "</tr>\n",
       "<tr>\n",
       "  <th>Model:</th>         <td>Multinomial Logit Model</td> <th>  Df Residuals:      </th>    <td>4,633</td>  \n",
       "</tr>\n",
       "<tr>\n",
       "  <th>Method:</th>                  <td>MLE</td>           <th>  Df Model:          </th>     <td>21</td>    \n",
       "</tr>\n",
       "<tr>\n",
       "  <th>Date:</th>             <td>Sat, 09 Jun 2018</td>     <th>  Pseudo R-squ.:     </th>    <td>0.114</td>  \n",
       "</tr>\n",
       "<tr>\n",
       "  <th>Time:</th>                 <td>16:14:34</td>         <th>  Pseudo R-bar-squ.: </th>    <td>0.111</td>  \n",
       "</tr>\n",
       "<tr>\n",
       "  <th>converged:</th>              <td>False</td>          <th>  Log-Likelihood:    </th> <td>-7,391.830</td>\n",
       "</tr>\n",
       "<tr>\n",
       "  <th> </th>                         <td> </td>            <th>  LL-Null:           </th> <td>-8,338.849</td>\n",
       "</tr>\n",
       "</table>\n",
       "<table class=\"simpletable\">\n",
       "<tr>\n",
       "                <td></td>                  <th>coef</th>     <th>std err</th>      <th>z</th>      <th>P>|z|</th> <th>[95.0% Conf. Int.]</th> \n",
       "</tr>\n",
       "<tr>\n",
       "  <th>Price over log(income)</th>       <td>   -0.1854</td> <td>    0.027</td> <td>   -6.796</td> <td> 0.000</td> <td>   -0.239    -0.132</td>\n",
       "</tr>\n",
       "<tr>\n",
       "  <th>Range (units: 100mi)</th>         <td>    0.3501</td> <td>    0.027</td> <td>   13.052</td> <td> 0.000</td> <td>    0.298     0.403</td>\n",
       "</tr>\n",
       "<tr>\n",
       "  <th>Acceleration (units: 0.1sec)</th> <td>   -0.7160</td> <td>    0.111</td> <td>   -6.472</td> <td> 0.000</td> <td>   -0.933    -0.499</td>\n",
       "</tr>\n",
       "<tr>\n",
       "  <th>Top speed (units: 0.01mph)</th>   <td>    0.2612</td> <td>    0.081</td> <td>    3.228</td> <td> 0.001</td> <td>    0.103     0.420</td>\n",
       "</tr>\n",
       "<tr>\n",
       "  <th>Pollution</th>                    <td>   -0.4441</td> <td>    0.102</td> <td>   -4.367</td> <td> 0.000</td> <td>   -0.643    -0.245</td>\n",
       "</tr>\n",
       "<tr>\n",
       "  <th>Size</th>                         <td>    0.9345</td> <td>    0.316</td> <td>    2.953</td> <td> 0.003</td> <td>    0.314     1.555</td>\n",
       "</tr>\n",
       "<tr>\n",
       "  <th>Big enough</th>                   <td>    0.1432</td> <td>    0.077</td> <td>    1.853</td> <td> 0.064</td> <td>   -0.008     0.295</td>\n",
       "</tr>\n",
       "<tr>\n",
       "  <th>Luggage space</th>                <td>    0.5009</td> <td>    0.191</td> <td>    2.623</td> <td> 0.009</td> <td>    0.127     0.875</td>\n",
       "</tr>\n",
       "<tr>\n",
       "  <th>Operation cost</th>               <td>   -0.7679</td> <td>    0.076</td> <td>  -10.131</td> <td> 0.000</td> <td>   -0.916    -0.619</td>\n",
       "</tr>\n",
       "<tr>\n",
       "  <th>Station availability</th>         <td>    0.4133</td> <td>    0.096</td> <td>    4.294</td> <td> 0.000</td> <td>    0.225     0.602</td>\n",
       "</tr>\n",
       "<tr>\n",
       "  <th>Sports utility vehicle</th>       <td>    0.8201</td> <td>    0.141</td> <td>    5.830</td> <td> 0.000</td> <td>    0.544     1.096</td>\n",
       "</tr>\n",
       "<tr>\n",
       "  <th>Sports car</th>                   <td>    0.6370</td> <td>    0.148</td> <td>    4.298</td> <td> 0.000</td> <td>    0.347     0.928</td>\n",
       "</tr>\n",
       "<tr>\n",
       "  <th>Station wagon</th>                <td>   -1.4367</td> <td>    0.062</td> <td>  -23.139</td> <td> 0.000</td> <td>   -1.558    -1.315</td>\n",
       "</tr>\n",
       "<tr>\n",
       "  <th>Truck</th>                        <td>   -1.0168</td> <td>    0.049</td> <td>  -20.753</td> <td> 0.000</td> <td>   -1.113    -0.921</td>\n",
       "</tr>\n",
       "<tr>\n",
       "  <th>Van</th>                          <td>   -0.7989</td> <td>    0.047</td> <td>  -16.864</td> <td> 0.000</td> <td>   -0.892    -0.706</td>\n",
       "</tr>\n",
       "<tr>\n",
       "  <th>EV</th>                           <td>   -0.1786</td> <td>    0.172</td> <td>   -1.041</td> <td> 0.298</td> <td>   -0.515     0.158</td>\n",
       "</tr>\n",
       "<tr>\n",
       "  <th>Commute < 5 & EV</th>             <td>    0.1983</td> <td>    0.084</td> <td>    2.374</td> <td> 0.018</td> <td>    0.035     0.362</td>\n",
       "</tr>\n",
       "<tr>\n",
       "  <th>College & EV</th>                 <td>    0.4426</td> <td>    0.109</td> <td>    4.058</td> <td> 0.000</td> <td>    0.229     0.656</td>\n",
       "</tr>\n",
       "<tr>\n",
       "  <th>CNG</th>                          <td>    0.3450</td> <td>    0.092</td> <td>    3.744</td> <td> 0.000</td> <td>    0.164     0.526</td>\n",
       "</tr>\n",
       "<tr>\n",
       "  <th>Methanol</th>                     <td>    0.3134</td> <td>    0.103</td> <td>    3.051</td> <td> 0.002</td> <td>    0.112     0.515</td>\n",
       "</tr>\n",
       "<tr>\n",
       "  <th>College & Methanol</th>           <td>    0.2284</td> <td>    0.089</td> <td>    2.576</td> <td> 0.010</td> <td>    0.055     0.402</td>\n",
       "</tr>\n",
       "</table>"
      ],
      "text/plain": [
       "<class 'statsmodels.iolib.summary.Summary'>\n",
       "\"\"\"\n",
       "                     Multinomial Logit Model Regression Results                    \n",
       "===================================================================================\n",
       "Dep. Variable:                      choice   No. Observations:                4,654\n",
       "Model:             Multinomial Logit Model   Df Residuals:                    4,633\n",
       "Method:                                MLE   Df Model:                           21\n",
       "Date:                     Sat, 09 Jun 2018   Pseudo R-squ.:                   0.114\n",
       "Time:                             16:14:34   Pseudo R-bar-squ.:               0.111\n",
       "converged:                           False   Log-Likelihood:             -7,391.830\n",
       "                                             LL-Null:                    -8,338.849\n",
       "================================================================================================\n",
       "                                   coef    std err          z      P>|z|      [95.0% Conf. Int.]\n",
       "------------------------------------------------------------------------------------------------\n",
       "Price over log(income)          -0.1854      0.027     -6.796      0.000        -0.239    -0.132\n",
       "Range (units: 100mi)             0.3501      0.027     13.052      0.000         0.298     0.403\n",
       "Acceleration (units: 0.1sec)    -0.7160      0.111     -6.472      0.000        -0.933    -0.499\n",
       "Top speed (units: 0.01mph)       0.2612      0.081      3.228      0.001         0.103     0.420\n",
       "Pollution                       -0.4441      0.102     -4.367      0.000        -0.643    -0.245\n",
       "Size                             0.9345      0.316      2.953      0.003         0.314     1.555\n",
       "Big enough                       0.1432      0.077      1.853      0.064        -0.008     0.295\n",
       "Luggage space                    0.5009      0.191      2.623      0.009         0.127     0.875\n",
       "Operation cost                  -0.7679      0.076    -10.131      0.000        -0.916    -0.619\n",
       "Station availability             0.4133      0.096      4.294      0.000         0.225     0.602\n",
       "Sports utility vehicle           0.8201      0.141      5.830      0.000         0.544     1.096\n",
       "Sports car                       0.6370      0.148      4.298      0.000         0.347     0.928\n",
       "Station wagon                   -1.4367      0.062    -23.139      0.000        -1.558    -1.315\n",
       "Truck                           -1.0168      0.049    -20.753      0.000        -1.113    -0.921\n",
       "Van                             -0.7989      0.047    -16.864      0.000        -0.892    -0.706\n",
       "EV                              -0.1786      0.172     -1.041      0.298        -0.515     0.158\n",
       "Commute < 5 & EV                 0.1983      0.084      2.374      0.018         0.035     0.362\n",
       "College & EV                     0.4426      0.109      4.058      0.000         0.229     0.656\n",
       "CNG                              0.3450      0.092      3.744      0.000         0.164     0.526\n",
       "Methanol                         0.3134      0.103      3.051      0.002         0.112     0.515\n",
       "College & Methanol               0.2284      0.089      2.576      0.010         0.055     0.402\n",
       "================================================================================================\n",
       "\"\"\""
      ]
     },
     "execution_count": 5,
     "metadata": {},
     "output_type": "execute_result"
    }
   ],
   "source": [
    "# Initialize the mnl model\n",
    "car_mnl = pl.create_choice_model(data=car_df,\n",
    "                                 alt_id_col='alt_id',\n",
    "                                 obs_id_col='obs_id',\n",
    "                                 choice_col='choice',\n",
    "                                 specification=car_mnl_spec,\n",
    "                                 model_type='MNL',\n",
    "                                 names=car_mnl_names)\n",
    "\n",
    "# Create the initial variables for model estimation\n",
    "num_vars = len(car_mnl_names)\n",
    "initial_vals = np.zeros(num_vars)\n",
    "\n",
    "# Estimate the mnl model\n",
    "car_mnl.fit_mle(initial_vals, method='BFGS')\n",
    "\n",
    "# Look at the estimation results\n",
    "car_mnl.get_statsmodels_summary()"
   ]
  },
  {
   "cell_type": "markdown",
   "metadata": {},
   "source": [
    "Failed attempts:\n",
    "1. Replace 'EV' with a non-EV dummy variable\n",
    "\n",
    "Successful attempts:\n",
    "1. Switch electric and methanol fuel type labels. The idea occurred to me because my original estimated methanol dummy had a similar coefficient to the estimated electric dummy variable in the paper.\n",
    "\n",
    "# Wow. A Semantic Error?\n",
    "Somehow the 'methanol' and 'electric' columns were erroneously swapped.\n",
    "\n",
    "When I estimate the model, using 'methanol' as if it were 'electric' and vice-versa, I can recreate the model estimation results exactly."
   ]
  },
  {
   "cell_type": "markdown",
   "metadata": {},
   "source": [
    "# Check raw data from Brownstone and Train\n",
    "\n",
    "There seems to have been an error going from their raw data to the data in mlogit. The dataset values don't match."
   ]
  },
  {
   "cell_type": "code",
   "execution_count": 6,
   "metadata": {},
   "outputs": [
    {
     "name": "stderr",
     "output_type": "stream",
     "text": [
      "/Users/timothyb0912/anaconda/lib/python2.7/site-packages/ipykernel/__main__.py:3: ParserWarning: Falling back to the 'python' engine because the 'c' engine does not support regex separators (separators > 1 char and different from '\\s+' are interpreted as regex); you can avoid this warning by specifying engine='python'.\n",
      "  app.launch_new_instance()\n"
     ]
    }
   ],
   "source": [
    "t_ = pd.read_table(\"../data/raw/mcfadden_train_2000_raw/mt-data/xmat.txt\",\n",
    "                   sep=r'\\s*',\n",
    "                   names=['col{}'.format(x) for x in range(1, 5)])"
   ]
  },
  {
   "cell_type": "code",
   "execution_count": 7,
   "metadata": {},
   "outputs": [],
   "source": [
    "raw_df = pd.DataFrame(t_.values.reshape((4654, 156)))"
   ]
  },
  {
   "cell_type": "code",
   "execution_count": 8,
   "metadata": {},
   "outputs": [
    {
     "data": {
      "text/plain": [
       "114    0.0\n",
       "115    0.0\n",
       "116    1.0\n",
       "117    1.0\n",
       "118    0.0\n",
       "119    0.0\n",
       "Name: 0, dtype: float64"
      ]
     },
     "execution_count": 8,
     "metadata": {},
     "output_type": "execute_result"
    }
   ],
   "source": [
    "# Look at the 'methanol' vehicles according to the original brownstone and train data\n",
    "raw_df.iloc[0, 114:120]"
   ]
  },
  {
   "cell_type": "code",
   "execution_count": 9,
   "metadata": {},
   "outputs": [
    {
     "data": {
      "text/plain": [
       "0         cng\n",
       "1         cng\n",
       "2    electric\n",
       "3    electric\n",
       "4    gasoline\n",
       "5    gasoline\n",
       "Name: fuel_type, dtype: object"
      ]
     },
     "execution_count": 9,
     "metadata": {},
     "output_type": "execute_result"
    }
   ],
   "source": [
    "# Look at the fuel types for the first six long-format rows.\n",
    "# From above, the third and fourth entry should be methanol vehicles\n",
    "# NOT electric vehicles.\n",
    "car_df['fuel_type'].iloc[:6]"
   ]
  }
 ],
 "metadata": {
  "jupytext": {
   "formats": "ipynb,py:light"
  },
  "kernelspec": {
   "display_name": "Python 3",
   "language": "python",
   "name": "python3"
  },
  "language_info": {
   "codemirror_mode": {
    "name": "ipython",
    "version": 3
   },
   "file_extension": ".py",
   "mimetype": "text/x-python",
   "name": "python",
   "nbconvert_exporter": "python",
   "pygments_lexer": "ipython3",
   "version": "3.7.6"
  }
 },
 "nbformat": 4,
 "nbformat_minor": 1
}
